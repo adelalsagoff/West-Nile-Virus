{
 "cells": [
  {
   "cell_type": "code",
   "execution_count": 1,
   "metadata": {},
   "outputs": [
    {
     "name": "stdout",
     "output_type": "stream",
     "text": [
      "/Users/AdelAlsagoff/DSI/materials copy/1.07-lesson-continuous-distributions\r\n"
     ]
    }
   ],
   "source": [
    "!pwd"
   ]
  },
  {
   "cell_type": "code",
   "execution_count": 2,
   "metadata": {},
   "outputs": [
    {
     "name": "stdout",
     "output_type": "stream",
     "text": [
      "[Errno 2] No such file or directory: 'DSI'\n",
      "/Users/AdelAlsagoff/DSI/materials copy/1.07-lesson-continuous-distributions\n"
     ]
    }
   ],
   "source": [
    "cd DSI"
   ]
  },
  {
   "cell_type": "code",
   "execution_count": 3,
   "metadata": {},
   "outputs": [
    {
     "name": "stdout",
     "output_type": "stream",
     "text": [
      "/Users/AdelAlsagoff/DSI\n"
     ]
    }
   ],
   "source": [
    "%cd '/Users/AdelAlsagoff/DSI'"
   ]
  },
  {
   "cell_type": "code",
   "execution_count": 4,
   "metadata": {},
   "outputs": [
    {
     "name": "stdout",
     "output_type": "stream",
     "text": [
      "first_DSI21.ipynb \u001b[34mlab\u001b[m\u001b[m               \u001b[34mmaterials\u001b[m\u001b[m         \u001b[34mmaterials copy\u001b[m\u001b[m\r\n"
     ]
    }
   ],
   "source": [
    "!ls"
   ]
  },
  {
   "cell_type": "code",
   "execution_count": 5,
   "metadata": {},
   "outputs": [
    {
     "name": "stdout",
     "output_type": "stream",
     "text": [
      "/Users/AdelAlsagoff/DSI/materials\n"
     ]
    }
   ],
   "source": [
    "cd materials"
   ]
  },
  {
   "cell_type": "code",
   "execution_count": 6,
   "metadata": {},
   "outputs": [
    {
     "name": "stdout",
     "output_type": "stream",
     "text": [
      "\u001b[34m1.01-lesson-python-intro\u001b[m\u001b[m/             \u001b[34m1_01-lab-pokemon\u001b[m\u001b[m/\r\n",
      "\u001b[34m1.02-lesson-python-control-flow\u001b[m\u001b[m/      \u001b[34m1_02-lab-distributions\u001b[m\u001b[m/\r\n",
      "\u001b[34m1.03-lesson-python-functions\u001b[m\u001b[m/         \u001b[34m2.01-2.02-intro-to-pandas\u001b[m\u001b[m/\r\n",
      "\u001b[34m1.04-lesson-list-comprehension\u001b[m\u001b[m/       \u001b[34mCheatSheets\u001b[m\u001b[m/\r\n",
      "\u001b[34m1.05-lesson-intro_to_probability\u001b[m\u001b[m/     \u001b[34mOtherNotes\u001b[m\u001b[m/\r\n",
      "\u001b[34m1.06-lesson-discrete-distributions\u001b[m\u001b[m/   README.md\r\n",
      "\u001b[34m1.07-lesson-continuous-distributions\u001b[m\u001b[m/ \u001b[34mproject_1\u001b[m\u001b[m/\r\n",
      "\u001b[34m1.08-lesson-central-limit-theorem\u001b[m\u001b[m/\r\n"
     ]
    }
   ],
   "source": [
    "ls"
   ]
  },
  {
   "cell_type": "code",
   "execution_count": 7,
   "metadata": {},
   "outputs": [
    {
     "name": "stdout",
     "output_type": "stream",
     "text": [
      "/Users/AdelAlsagoff/DSI/materials/project_1\n"
     ]
    }
   ],
   "source": [
    "cd project_1"
   ]
  },
  {
   "cell_type": "code",
   "execution_count": 8,
   "metadata": {},
   "outputs": [
    {
     "name": "stdout",
     "output_type": "stream",
     "text": [
      "README.md  \u001b[34mcode\u001b[m\u001b[m/      \u001b[34mdata\u001b[m\u001b[m/\r\n"
     ]
    }
   ],
   "source": [
    "ls"
   ]
  },
  {
   "cell_type": "code",
   "execution_count": 9,
   "metadata": {},
   "outputs": [
    {
     "name": "stdout",
     "output_type": "stream",
     "text": [
      "/Users/AdelAlsagoff/DSI/materials/project_1/data\n"
     ]
    }
   ],
   "source": [
    "cd data"
   ]
  },
  {
   "cell_type": "code",
   "execution_count": 10,
   "metadata": {},
   "outputs": [
    {
     "ename": "NameError",
     "evalue": "name 's' is not defined",
     "output_type": "error",
     "traceback": [
      "\u001b[0;31m---------------------------------------------------------------------------\u001b[0m",
      "\u001b[0;31mNameError\u001b[0m                                 Traceback (most recent call last)",
      "\u001b[0;32m<ipython-input-10-88082dd05dbc>\u001b[0m in \u001b[0;36m<module>\u001b[0;34m\u001b[0m\n\u001b[0;32m----> 1\u001b[0;31m \u001b[0ms\u001b[0m\u001b[0;34m(\u001b[0m\u001b[0;34m\"\"\u001b[0m\u001b[0;34m)\u001b[0m\u001b[0;34m\u001b[0m\u001b[0;34m\u001b[0m\u001b[0m\n\u001b[0m",
      "\u001b[0;31mNameError\u001b[0m: name 's' is not defined"
     ]
    }
   ],
   "source": [
    ";s"
   ]
  },
  {
   "cell_type": "code",
   "execution_count": 11,
   "metadata": {},
   "outputs": [
    {
     "name": "stdout",
     "output_type": "stream",
     "text": [
      "act_2017.csv                            sat_2018.csv\r\n",
      "act_2018.csv                            sat_2019.csv\r\n",
      "act_2019.csv                            sat_2019_by_intended_college_major.csv\r\n",
      "act_2019_ca.csv                         sat_2019_ca.csv\r\n",
      "sat_2017.csv                            sat_act_by_college.csv\r\n"
     ]
    }
   ],
   "source": [
    "ls"
   ]
  },
  {
   "cell_type": "code",
   "execution_count": 12,
   "metadata": {},
   "outputs": [],
   "source": [
    "import numpy as np\n",
    "import pandas as pd\n",
    "import matplotlib.pyplot as plt"
   ]
  },
  {
   "cell_type": "code",
   "execution_count": 13,
   "metadata": {},
   "outputs": [],
   "source": [
    "act_17 = pd.read_csv('act_2017.csv')"
   ]
  },
  {
   "cell_type": "code",
   "execution_count": 15,
   "metadata": {},
   "outputs": [
    {
     "data": {
      "text/html": [
       "<div>\n",
       "<style scoped>\n",
       "    .dataframe tbody tr th:only-of-type {\n",
       "        vertical-align: middle;\n",
       "    }\n",
       "\n",
       "    .dataframe tbody tr th {\n",
       "        vertical-align: top;\n",
       "    }\n",
       "\n",
       "    .dataframe thead th {\n",
       "        text-align: right;\n",
       "    }\n",
       "</style>\n",
       "<table border=\"1\" class=\"dataframe\">\n",
       "  <thead>\n",
       "    <tr style=\"text-align: right;\">\n",
       "      <th></th>\n",
       "      <th>State</th>\n",
       "      <th>Participation</th>\n",
       "      <th>English</th>\n",
       "      <th>Math</th>\n",
       "      <th>Reading</th>\n",
       "      <th>Science</th>\n",
       "      <th>Composite</th>\n",
       "    </tr>\n",
       "  </thead>\n",
       "  <tbody>\n",
       "    <tr>\n",
       "      <th>0</th>\n",
       "      <td>National</td>\n",
       "      <td>60%</td>\n",
       "      <td>20.3</td>\n",
       "      <td>20.7</td>\n",
       "      <td>21.4</td>\n",
       "      <td>21.0</td>\n",
       "      <td>21.0</td>\n",
       "    </tr>\n",
       "    <tr>\n",
       "      <th>1</th>\n",
       "      <td>Alabama</td>\n",
       "      <td>100%</td>\n",
       "      <td>18.9</td>\n",
       "      <td>18.4</td>\n",
       "      <td>19.7</td>\n",
       "      <td>19.4</td>\n",
       "      <td>19.2</td>\n",
       "    </tr>\n",
       "    <tr>\n",
       "      <th>2</th>\n",
       "      <td>Alaska</td>\n",
       "      <td>65%</td>\n",
       "      <td>18.7</td>\n",
       "      <td>19.8</td>\n",
       "      <td>20.4</td>\n",
       "      <td>19.9</td>\n",
       "      <td>19.8</td>\n",
       "    </tr>\n",
       "    <tr>\n",
       "      <th>3</th>\n",
       "      <td>Arizona</td>\n",
       "      <td>62%</td>\n",
       "      <td>18.6</td>\n",
       "      <td>19.8</td>\n",
       "      <td>20.1</td>\n",
       "      <td>19.8</td>\n",
       "      <td>19.7</td>\n",
       "    </tr>\n",
       "    <tr>\n",
       "      <th>4</th>\n",
       "      <td>Arkansas</td>\n",
       "      <td>100%</td>\n",
       "      <td>18.9</td>\n",
       "      <td>19.0</td>\n",
       "      <td>19.7</td>\n",
       "      <td>19.5</td>\n",
       "      <td>19.4</td>\n",
       "    </tr>\n",
       "  </tbody>\n",
       "</table>\n",
       "</div>"
      ],
      "text/plain": [
       "      State Participation  English  Math  Reading  Science Composite\n",
       "0  National           60%     20.3  20.7     21.4     21.0      21.0\n",
       "1   Alabama          100%     18.9  18.4     19.7     19.4      19.2\n",
       "2    Alaska           65%     18.7  19.8     20.4     19.9      19.8\n",
       "3   Arizona           62%     18.6  19.8     20.1     19.8      19.7\n",
       "4  Arkansas          100%     18.9  19.0     19.7     19.5      19.4"
      ]
     },
     "execution_count": 15,
     "metadata": {},
     "output_type": "execute_result"
    }
   ],
   "source": [
    "act_17.head()"
   ]
  },
  {
   "cell_type": "code",
   "execution_count": 16,
   "metadata": {},
   "outputs": [
    {
     "name": "stdout",
     "output_type": "stream",
     "text": [
      "<class 'pandas.core.frame.DataFrame'>\n",
      "RangeIndex: 52 entries, 0 to 51\n",
      "Data columns (total 7 columns):\n",
      " #   Column         Non-Null Count  Dtype  \n",
      "---  ------         --------------  -----  \n",
      " 0   State          52 non-null     object \n",
      " 1   Participation  52 non-null     object \n",
      " 2   English        52 non-null     float64\n",
      " 3   Math           52 non-null     float64\n",
      " 4   Reading        52 non-null     float64\n",
      " 5   Science        52 non-null     float64\n",
      " 6   Composite      52 non-null     object \n",
      "dtypes: float64(4), object(3)\n",
      "memory usage: 3.0+ KB\n"
     ]
    }
   ],
   "source": [
    "act_17.info()"
   ]
  },
  {
   "cell_type": "code",
   "execution_count": 17,
   "metadata": {},
   "outputs": [
    {
     "name": "stdout",
     "output_type": "stream",
     "text": [
      "act_2017.csv                           sat_2018.csv\r\n",
      "act_2018.csv                           sat_2019.csv\r\n",
      "act_2019.csv                           sat_2019_by_intended_college_major.csv\r\n",
      "act_2019_ca.csv                        sat_2019_ca.csv\r\n",
      "sat_2017.csv                           sat_act_by_college.csv\r\n"
     ]
    }
   ],
   "source": [
    "!ls"
   ]
  },
  {
   "cell_type": "code",
   "execution_count": 18,
   "metadata": {},
   "outputs": [],
   "source": [
    "sat_17 = pd.read_csv('sat_2017.csv')"
   ]
  },
  {
   "cell_type": "code",
   "execution_count": 19,
   "metadata": {},
   "outputs": [
    {
     "data": {
      "text/html": [
       "<div>\n",
       "<style scoped>\n",
       "    .dataframe tbody tr th:only-of-type {\n",
       "        vertical-align: middle;\n",
       "    }\n",
       "\n",
       "    .dataframe tbody tr th {\n",
       "        vertical-align: top;\n",
       "    }\n",
       "\n",
       "    .dataframe thead th {\n",
       "        text-align: right;\n",
       "    }\n",
       "</style>\n",
       "<table border=\"1\" class=\"dataframe\">\n",
       "  <thead>\n",
       "    <tr style=\"text-align: right;\">\n",
       "      <th></th>\n",
       "      <th>State</th>\n",
       "      <th>Participation</th>\n",
       "      <th>Evidence-Based Reading and Writing</th>\n",
       "      <th>Math</th>\n",
       "      <th>Total</th>\n",
       "    </tr>\n",
       "  </thead>\n",
       "  <tbody>\n",
       "    <tr>\n",
       "      <th>0</th>\n",
       "      <td>Alabama</td>\n",
       "      <td>5%</td>\n",
       "      <td>593</td>\n",
       "      <td>572</td>\n",
       "      <td>1165</td>\n",
       "    </tr>\n",
       "    <tr>\n",
       "      <th>1</th>\n",
       "      <td>Alaska</td>\n",
       "      <td>38%</td>\n",
       "      <td>547</td>\n",
       "      <td>533</td>\n",
       "      <td>1080</td>\n",
       "    </tr>\n",
       "    <tr>\n",
       "      <th>2</th>\n",
       "      <td>Arizona</td>\n",
       "      <td>30%</td>\n",
       "      <td>563</td>\n",
       "      <td>553</td>\n",
       "      <td>1116</td>\n",
       "    </tr>\n",
       "    <tr>\n",
       "      <th>3</th>\n",
       "      <td>Arkansas</td>\n",
       "      <td>3%</td>\n",
       "      <td>614</td>\n",
       "      <td>594</td>\n",
       "      <td>1208</td>\n",
       "    </tr>\n",
       "    <tr>\n",
       "      <th>4</th>\n",
       "      <td>California</td>\n",
       "      <td>53%</td>\n",
       "      <td>531</td>\n",
       "      <td>524</td>\n",
       "      <td>1055</td>\n",
       "    </tr>\n",
       "  </tbody>\n",
       "</table>\n",
       "</div>"
      ],
      "text/plain": [
       "        State Participation  Evidence-Based Reading and Writing  Math  Total\n",
       "0     Alabama            5%                                 593   572   1165\n",
       "1      Alaska           38%                                 547   533   1080\n",
       "2     Arizona           30%                                 563   553   1116\n",
       "3    Arkansas            3%                                 614   594   1208\n",
       "4  California           53%                                 531   524   1055"
      ]
     },
     "execution_count": 19,
     "metadata": {},
     "output_type": "execute_result"
    }
   ],
   "source": [
    "sat_17.head()"
   ]
  },
  {
   "cell_type": "code",
   "execution_count": 20,
   "metadata": {},
   "outputs": [
    {
     "name": "stdout",
     "output_type": "stream",
     "text": [
      "<class 'pandas.core.frame.DataFrame'>\n",
      "RangeIndex: 51 entries, 0 to 50\n",
      "Data columns (total 5 columns):\n",
      " #   Column                              Non-Null Count  Dtype \n",
      "---  ------                              --------------  ----- \n",
      " 0   State                               51 non-null     object\n",
      " 1   Participation                       51 non-null     object\n",
      " 2   Evidence-Based Reading and Writing  51 non-null     int64 \n",
      " 3   Math                                51 non-null     int64 \n",
      " 4   Total                               51 non-null     int64 \n",
      "dtypes: int64(3), object(2)\n",
      "memory usage: 2.1+ KB\n"
     ]
    }
   ],
   "source": [
    "sat_17.info()"
   ]
  },
  {
   "cell_type": "code",
   "execution_count": 25,
   "metadata": {},
   "outputs": [
    {
     "name": "stdout",
     "output_type": "stream",
     "text": [
      "<class 'pandas.core.frame.DataFrame'>\n",
      "RangeIndex: 51 entries, 0 to 50\n",
      "Data columns (total 5 columns):\n",
      " #   Column                              Non-Null Count  Dtype \n",
      "---  ------                              --------------  ----- \n",
      " 0   State                               51 non-null     object\n",
      " 1   Participation                       51 non-null     object\n",
      " 2   Evidence-Based Reading and Writing  51 non-null     int64 \n",
      " 3   Math                                51 non-null     int64 \n",
      " 4   Total                               51 non-null     int64 \n",
      "dtypes: int64(3), object(2)\n",
      "memory usage: 2.1+ KB\n",
      "<class 'pandas.core.frame.DataFrame'>\n",
      "RangeIndex: 52 entries, 0 to 51\n",
      "Data columns (total 7 columns):\n",
      " #   Column         Non-Null Count  Dtype  \n",
      "---  ------         --------------  -----  \n",
      " 0   State          52 non-null     object \n",
      " 1   Participation  52 non-null     object \n",
      " 2   English        52 non-null     float64\n",
      " 3   Math           52 non-null     float64\n",
      " 4   Reading        52 non-null     float64\n",
      " 5   Science        52 non-null     float64\n",
      " 6   Composite      52 non-null     object \n",
      "dtypes: float64(4), object(3)\n",
      "memory usage: 3.0+ KB\n"
     ]
    },
    {
     "data": {
      "text/plain": [
       "[None, None]"
      ]
     },
     "execution_count": 25,
     "metadata": {},
     "output_type": "execute_result"
    }
   ],
   "source": [
    "datasets = [sat_17,act_17]\n",
    "\n",
    "[x.info() for x in datasets]"
   ]
  },
  {
   "cell_type": "code",
   "execution_count": 29,
   "metadata": {},
   "outputs": [],
   "source": [
    "sat_17_states = list(set(sat_17['State'])) #extra state"
   ]
  },
  {
   "cell_type": "code",
   "execution_count": 30,
   "metadata": {},
   "outputs": [],
   "source": [
    "act_17_states = list(set(act_17['State']))"
   ]
  },
  {
   "cell_type": "code",
   "execution_count": 114,
   "metadata": {},
   "outputs": [
    {
     "name": "stdout",
     "output_type": "stream",
     "text": [
      "extra state in act_17, National\n"
     ]
    },
    {
     "data": {
      "text/plain": [
       "[None]"
      ]
     },
     "execution_count": 114,
     "metadata": {},
     "output_type": "execute_result"
    }
   ],
   "source": [
    "[print(f'extra state in act_17, {x}') for x in act_17_states if x not in sat_17_states]"
   ]
  },
  {
   "cell_type": "code",
   "execution_count": 50,
   "metadata": {},
   "outputs": [],
   "source": [
    "act_18 = pd.read_csv('act_2018.csv')\n",
    "sat_18 = pd.read_csv('sat_2018.csv')\n",
    "act_19 = pd.read_csv('act_2019.csv')\n",
    "sat_19 = pd.read_csv('sat_2019.csv')\n"
   ]
  },
  {
   "cell_type": "code",
   "execution_count": 51,
   "metadata": {},
   "outputs": [
    {
     "name": "stdout",
     "output_type": "stream",
     "text": [
      "<class 'pandas.core.frame.DataFrame'>\n",
      "RangeIndex: 52 entries, 0 to 51\n",
      "Data columns (total 3 columns):\n",
      " #   Column         Non-Null Count  Dtype  \n",
      "---  ------         --------------  -----  \n",
      " 0   State          52 non-null     object \n",
      " 1   Participation  52 non-null     object \n",
      " 2   Composite      52 non-null     float64\n",
      "dtypes: float64(1), object(2)\n",
      "memory usage: 1.3+ KB\n"
     ]
    }
   ],
   "source": [
    "act_18.info()"
   ]
  },
  {
   "cell_type": "code",
   "execution_count": 52,
   "metadata": {},
   "outputs": [
    {
     "data": {
      "text/plain": [
       "(52, 3)"
      ]
     },
     "execution_count": 52,
     "metadata": {},
     "output_type": "execute_result"
    }
   ],
   "source": [
    "act_18.shape"
   ]
  },
  {
   "cell_type": "code",
   "execution_count": 49,
   "metadata": {},
   "outputs": [
    {
     "data": {
      "text/plain": [
       "(52, 7)"
      ]
     },
     "execution_count": 49,
     "metadata": {},
     "output_type": "execute_result"
    }
   ],
   "source": [
    "act_17.shape\n"
   ]
  },
  {
   "cell_type": "code",
   "execution_count": 55,
   "metadata": {},
   "outputs": [
    {
     "name": "stdout",
     "output_type": "stream",
     "text": [
      "<class 'pandas.core.frame.DataFrame'>\n",
      "RangeIndex: 52 entries, 0 to 51\n",
      "Data columns (total 3 columns):\n",
      " #   Column         Non-Null Count  Dtype  \n",
      "---  ------         --------------  -----  \n",
      " 0   State          52 non-null     object \n",
      " 1   Participation  52 non-null     object \n",
      " 2   Composite      52 non-null     float64\n",
      "dtypes: float64(1), object(2)\n",
      "memory usage: 1.3+ KB\n"
     ]
    }
   ],
   "source": [
    "act_19.info()"
   ]
  },
  {
   "cell_type": "code",
   "execution_count": 56,
   "metadata": {},
   "outputs": [
    {
     "name": "stdout",
     "output_type": "stream",
     "text": [
      "<class 'pandas.core.frame.DataFrame'>\n",
      "RangeIndex: 51 entries, 0 to 50\n",
      "Data columns (total 5 columns):\n",
      " #   Column                              Non-Null Count  Dtype \n",
      "---  ------                              --------------  ----- \n",
      " 0   State                               51 non-null     object\n",
      " 1   Participation                       51 non-null     object\n",
      " 2   Evidence-Based Reading and Writing  51 non-null     int64 \n",
      " 3   Math                                51 non-null     int64 \n",
      " 4   Total                               51 non-null     int64 \n",
      "dtypes: int64(3), object(2)\n",
      "memory usage: 2.1+ KB\n"
     ]
    }
   ],
   "source": [
    "sat_18.info()"
   ]
  },
  {
   "cell_type": "code",
   "execution_count": 57,
   "metadata": {},
   "outputs": [
    {
     "data": {
      "text/plain": [
       "(51, 5)"
      ]
     },
     "execution_count": 57,
     "metadata": {},
     "output_type": "execute_result"
    }
   ],
   "source": [
    "sat_18.shape"
   ]
  },
  {
   "cell_type": "code",
   "execution_count": 58,
   "metadata": {},
   "outputs": [
    {
     "data": {
      "text/plain": [
       "(53, 5)"
      ]
     },
     "execution_count": 58,
     "metadata": {},
     "output_type": "execute_result"
    }
   ],
   "source": [
    "sat_19.shape"
   ]
  },
  {
   "cell_type": "code",
   "execution_count": 60,
   "metadata": {},
   "outputs": [
    {
     "name": "stdout",
     "output_type": "stream",
     "text": [
      "<class 'pandas.core.frame.DataFrame'>\n",
      "RangeIndex: 53 entries, 0 to 52\n",
      "Data columns (total 5 columns):\n",
      " #   Column              Non-Null Count  Dtype \n",
      "---  ------              --------------  ----- \n",
      " 0   State               53 non-null     object\n",
      " 1   Participation Rate  53 non-null     object\n",
      " 2   EBRW                53 non-null     int64 \n",
      " 3   Math                53 non-null     int64 \n",
      " 4   Total               53 non-null     int64 \n",
      "dtypes: int64(3), object(2)\n",
      "memory usage: 2.2+ KB\n"
     ]
    }
   ],
   "source": [
    "sat_19.info()"
   ]
  },
  {
   "cell_type": "code",
   "execution_count": 64,
   "metadata": {},
   "outputs": [],
   "source": [
    "sat_19_states = list(set(sat_19['State']))"
   ]
  },
  {
   "cell_type": "code",
   "execution_count": 66,
   "metadata": {},
   "outputs": [
    {
     "data": {
      "text/plain": [
       "53"
      ]
     },
     "execution_count": 66,
     "metadata": {},
     "output_type": "execute_result"
    }
   ],
   "source": [
    "len(sat_19_states)"
   ]
  },
  {
   "cell_type": "code",
   "execution_count": 69,
   "metadata": {},
   "outputs": [
    {
     "name": "stdout",
     "output_type": "stream",
     "text": [
      "extra state, Virgin Islands\n",
      "extra state, Puerto Rico\n"
     ]
    },
    {
     "data": {
      "text/plain": [
       "[None, None]"
      ]
     },
     "execution_count": 69,
     "metadata": {},
     "output_type": "execute_result"
    }
   ],
   "source": [
    "[print(f'extra state, {x}') for x in sat_19_states if x not in sat_17_states]"
   ]
  },
  {
   "cell_type": "code",
   "execution_count": 70,
   "metadata": {},
   "outputs": [
    {
     "name": "stdout",
     "output_type": "stream",
     "text": [
      "act_2017.csv                           sat_2018.csv\r\n",
      "act_2018.csv                           sat_2019.csv\r\n",
      "act_2019.csv                           sat_2019_by_intended_college_major.csv\r\n",
      "act_2019_ca.csv                        sat_2019_ca.csv\r\n",
      "sat_2017.csv                           sat_act_by_college.csv\r\n"
     ]
    }
   ],
   "source": [
    "!ls"
   ]
  },
  {
   "cell_type": "code",
   "execution_count": null,
   "metadata": {},
   "outputs": [],
   "source": []
  },
  {
   "cell_type": "markdown",
   "metadata": {},
   "source": [
    "Findings:\n",
    "\n",
    "ACT 17-19 have the same number of rows but different columns as well as spelling for the overlapping ones\n",
    "ACT 17-19 also has National average\n",
    "\n",
    "\n",
    "SAT 19 has additional states Virgin Island and Puerto Rico\n",
    "SAT 17-19 different number of columns as well as spelling for the overlapping ones"
   ]
  },
  {
   "cell_type": "code",
   "execution_count": 73,
   "metadata": {},
   "outputs": [
    {
     "data": {
      "text/html": [
       "<div>\n",
       "<style scoped>\n",
       "    .dataframe tbody tr th:only-of-type {\n",
       "        vertical-align: middle;\n",
       "    }\n",
       "\n",
       "    .dataframe tbody tr th {\n",
       "        vertical-align: top;\n",
       "    }\n",
       "\n",
       "    .dataframe thead th {\n",
       "        text-align: right;\n",
       "    }\n",
       "</style>\n",
       "<table border=\"1\" class=\"dataframe\">\n",
       "  <thead>\n",
       "    <tr style=\"text-align: right;\">\n",
       "      <th></th>\n",
       "      <th>State</th>\n",
       "      <th>Participation</th>\n",
       "      <th>Evidence-Based Reading and Writing</th>\n",
       "      <th>Math</th>\n",
       "      <th>Total</th>\n",
       "    </tr>\n",
       "  </thead>\n",
       "  <tbody>\n",
       "    <tr>\n",
       "      <th>0</th>\n",
       "      <td>Alabama</td>\n",
       "      <td>6%</td>\n",
       "      <td>595</td>\n",
       "      <td>571</td>\n",
       "      <td>1166</td>\n",
       "    </tr>\n",
       "    <tr>\n",
       "      <th>1</th>\n",
       "      <td>Alaska</td>\n",
       "      <td>43%</td>\n",
       "      <td>562</td>\n",
       "      <td>544</td>\n",
       "      <td>1106</td>\n",
       "    </tr>\n",
       "    <tr>\n",
       "      <th>2</th>\n",
       "      <td>Arizona</td>\n",
       "      <td>29%</td>\n",
       "      <td>577</td>\n",
       "      <td>572</td>\n",
       "      <td>1149</td>\n",
       "    </tr>\n",
       "    <tr>\n",
       "      <th>3</th>\n",
       "      <td>Arkansas</td>\n",
       "      <td>5%</td>\n",
       "      <td>592</td>\n",
       "      <td>576</td>\n",
       "      <td>1169</td>\n",
       "    </tr>\n",
       "    <tr>\n",
       "      <th>4</th>\n",
       "      <td>California</td>\n",
       "      <td>60%</td>\n",
       "      <td>540</td>\n",
       "      <td>536</td>\n",
       "      <td>1076</td>\n",
       "    </tr>\n",
       "  </tbody>\n",
       "</table>\n",
       "</div>"
      ],
      "text/plain": [
       "        State Participation  Evidence-Based Reading and Writing  Math  Total\n",
       "0     Alabama            6%                                 595   571   1166\n",
       "1      Alaska           43%                                 562   544   1106\n",
       "2     Arizona           29%                                 577   572   1149\n",
       "3    Arkansas            5%                                 592   576   1169\n",
       "4  California           60%                                 540   536   1076"
      ]
     },
     "execution_count": 73,
     "metadata": {},
     "output_type": "execute_result"
    }
   ],
   "source": [
    "sat_18.head()"
   ]
  },
  {
   "cell_type": "code",
   "execution_count": 86,
   "metadata": {},
   "outputs": [],
   "source": [
    "sat_18.columns = [col.replace(' ','_') and col.lower() for col in sat_18.columns]"
   ]
  },
  {
   "cell_type": "code",
   "execution_count": 91,
   "metadata": {},
   "outputs": [
    {
     "data": {
      "text/html": [
       "<div>\n",
       "<style scoped>\n",
       "    .dataframe tbody tr th:only-of-type {\n",
       "        vertical-align: middle;\n",
       "    }\n",
       "\n",
       "    .dataframe tbody tr th {\n",
       "        vertical-align: top;\n",
       "    }\n",
       "\n",
       "    .dataframe thead th {\n",
       "        text-align: right;\n",
       "    }\n",
       "</style>\n",
       "<table border=\"1\" class=\"dataframe\">\n",
       "  <thead>\n",
       "    <tr style=\"text-align: right;\">\n",
       "      <th></th>\n",
       "      <th>state</th>\n",
       "      <th>participation</th>\n",
       "      <th>evidence-based_reading_and_writing</th>\n",
       "      <th>math</th>\n",
       "      <th>total</th>\n",
       "    </tr>\n",
       "  </thead>\n",
       "  <tbody>\n",
       "    <tr>\n",
       "      <th>0</th>\n",
       "      <td>Alabama</td>\n",
       "      <td>6%</td>\n",
       "      <td>595</td>\n",
       "      <td>571</td>\n",
       "      <td>1166</td>\n",
       "    </tr>\n",
       "    <tr>\n",
       "      <th>1</th>\n",
       "      <td>Alaska</td>\n",
       "      <td>43%</td>\n",
       "      <td>562</td>\n",
       "      <td>544</td>\n",
       "      <td>1106</td>\n",
       "    </tr>\n",
       "    <tr>\n",
       "      <th>2</th>\n",
       "      <td>Arizona</td>\n",
       "      <td>29%</td>\n",
       "      <td>577</td>\n",
       "      <td>572</td>\n",
       "      <td>1149</td>\n",
       "    </tr>\n",
       "    <tr>\n",
       "      <th>3</th>\n",
       "      <td>Arkansas</td>\n",
       "      <td>5%</td>\n",
       "      <td>592</td>\n",
       "      <td>576</td>\n",
       "      <td>1169</td>\n",
       "    </tr>\n",
       "    <tr>\n",
       "      <th>4</th>\n",
       "      <td>California</td>\n",
       "      <td>60%</td>\n",
       "      <td>540</td>\n",
       "      <td>536</td>\n",
       "      <td>1076</td>\n",
       "    </tr>\n",
       "  </tbody>\n",
       "</table>\n",
       "</div>"
      ],
      "text/plain": [
       "        state participation  evidence-based_reading_and_writing  math  total\n",
       "0     Alabama            6%                                 595   571   1166\n",
       "1      Alaska           43%                                 562   544   1106\n",
       "2     Arizona           29%                                 577   572   1149\n",
       "3    Arkansas            5%                                 592   576   1169\n",
       "4  California           60%                                 540   536   1076"
      ]
     },
     "execution_count": 91,
     "metadata": {},
     "output_type": "execute_result"
    }
   ],
   "source": [
    "sat_18.head()"
   ]
  },
  {
   "cell_type": "code",
   "execution_count": 96,
   "metadata": {},
   "outputs": [
    {
     "data": {
      "text/html": [
       "<div>\n",
       "<style scoped>\n",
       "    .dataframe tbody tr th:only-of-type {\n",
       "        vertical-align: middle;\n",
       "    }\n",
       "\n",
       "    .dataframe tbody tr th {\n",
       "        vertical-align: top;\n",
       "    }\n",
       "\n",
       "    .dataframe thead th {\n",
       "        text-align: right;\n",
       "    }\n",
       "</style>\n",
       "<table border=\"1\" class=\"dataframe\">\n",
       "  <thead>\n",
       "    <tr style=\"text-align: right;\">\n",
       "      <th></th>\n",
       "      <th>state</th>\n",
       "      <th>participation</th>\n",
       "      <th>evidence-based_reading_and_writing</th>\n",
       "      <th>math</th>\n",
       "      <th>total</th>\n",
       "    </tr>\n",
       "  </thead>\n",
       "  <tbody>\n",
       "  </tbody>\n",
       "</table>\n",
       "</div>"
      ],
      "text/plain": [
       "Empty DataFrame\n",
       "Columns: [state, participation, evidence-based_reading_and_writing, math, total]\n",
       "Index: []"
      ]
     },
     "execution_count": 96,
     "metadata": {},
     "output_type": "execute_result"
    }
   ],
   "source": [
    "sat_18.loc[(sat_18.state == 'National')]"
   ]
  },
  {
   "cell_type": "code",
   "execution_count": 98,
   "metadata": {},
   "outputs": [],
   "source": [
    "sat_18_states = [x for x in sat_18['state']]"
   ]
  },
  {
   "cell_type": "code",
   "execution_count": 100,
   "metadata": {},
   "outputs": [
    {
     "data": {
      "text/plain": [
       "['Alabama',\n",
       " 'Alaska',\n",
       " 'Arizona',\n",
       " 'Arkansas',\n",
       " 'California',\n",
       " 'Colorado',\n",
       " 'Connecticut',\n",
       " 'Delaware',\n",
       " 'District of Columbia',\n",
       " 'Florida',\n",
       " 'Georgia',\n",
       " 'Hawaii',\n",
       " 'Idaho',\n",
       " 'Illinois',\n",
       " 'Indiana',\n",
       " 'Iowa',\n",
       " 'Kansas',\n",
       " 'Kentucky',\n",
       " 'Louisiana',\n",
       " 'Maine',\n",
       " 'Maryland',\n",
       " 'Massachusetts',\n",
       " 'Michigan',\n",
       " 'Minnesota',\n",
       " 'Mississippi',\n",
       " 'Missouri',\n",
       " 'Montana',\n",
       " 'Nebraska',\n",
       " 'Nevada',\n",
       " 'New Hampshire',\n",
       " 'New Jersey',\n",
       " 'New Mexico',\n",
       " 'New York',\n",
       " 'North Carolina',\n",
       " 'North Dakota',\n",
       " 'Oklahoma',\n",
       " 'Ohio',\n",
       " 'Oregon',\n",
       " 'Pennsylvania',\n",
       " 'Rhode Island',\n",
       " 'South Carolina',\n",
       " 'South Dakota',\n",
       " 'Tennessee',\n",
       " 'Texas',\n",
       " 'Utah',\n",
       " 'Vermont',\n",
       " 'Virginia',\n",
       " 'Washington',\n",
       " 'West Virginia',\n",
       " 'Wisconsin',\n",
       " 'Wyoming']"
      ]
     },
     "execution_count": 100,
     "metadata": {},
     "output_type": "execute_result"
    }
   ],
   "source": [
    "sat_18_states"
   ]
  },
  {
   "cell_type": "code",
   "execution_count": 101,
   "metadata": {},
   "outputs": [
    {
     "data": {
      "text/plain": [
       "[]"
      ]
     },
     "execution_count": 101,
     "metadata": {},
     "output_type": "execute_result"
    }
   ],
   "source": [
    "[print(f'extra state, {x}') for x in sat_18_states if x not in sat_17_states]"
   ]
  },
  {
   "cell_type": "code",
   "execution_count": 103,
   "metadata": {},
   "outputs": [
    {
     "data": {
      "text/plain": [
       "51"
      ]
     },
     "execution_count": 103,
     "metadata": {},
     "output_type": "execute_result"
    }
   ],
   "source": [
    "len(sat_18)"
   ]
  },
  {
   "cell_type": "code",
   "execution_count": 104,
   "metadata": {},
   "outputs": [
    {
     "data": {
      "text/plain": [
       "51"
      ]
     },
     "execution_count": 104,
     "metadata": {},
     "output_type": "execute_result"
    }
   ],
   "source": [
    "len(sat_17)"
   ]
  },
  {
   "cell_type": "code",
   "execution_count": 105,
   "metadata": {},
   "outputs": [
    {
     "data": {
      "text/plain": [
       "53"
      ]
     },
     "execution_count": 105,
     "metadata": {},
     "output_type": "execute_result"
    }
   ],
   "source": [
    "len(sat_19)"
   ]
  },
  {
   "cell_type": "code",
   "execution_count": 116,
   "metadata": {},
   "outputs": [
    {
     "data": {
      "text/plain": [
       "0      True\n",
       "1     False\n",
       "2     False\n",
       "3     False\n",
       "4     False\n",
       "5     False\n",
       "6     False\n",
       "7     False\n",
       "8     False\n",
       "9     False\n",
       "10    False\n",
       "11    False\n",
       "12    False\n",
       "13    False\n",
       "14    False\n",
       "15    False\n",
       "16    False\n",
       "17    False\n",
       "18    False\n",
       "19    False\n",
       "20    False\n",
       "21    False\n",
       "22    False\n",
       "23    False\n",
       "24    False\n",
       "25    False\n",
       "26    False\n",
       "27    False\n",
       "28    False\n",
       "29    False\n",
       "30    False\n",
       "31    False\n",
       "32    False\n",
       "33    False\n",
       "34    False\n",
       "35    False\n",
       "36    False\n",
       "37    False\n",
       "38    False\n",
       "39    False\n",
       "40    False\n",
       "41    False\n",
       "42    False\n",
       "43    False\n",
       "44    False\n",
       "45    False\n",
       "46    False\n",
       "47    False\n",
       "48    False\n",
       "49    False\n",
       "50    False\n",
       "51    False\n",
       "Name: State, dtype: bool"
      ]
     },
     "execution_count": 116,
     "metadata": {},
     "output_type": "execute_result"
    }
   ],
   "source": [
    "(act_17['State'] == 'National') == True"
   ]
  },
  {
   "cell_type": "code",
   "execution_count": 113,
   "metadata": {},
   "outputs": [
    {
     "data": {
      "text/plain": [
       "0                 National\n",
       "1                  Alabama\n",
       "2                   Alaska\n",
       "3                  Arizona\n",
       "4                 Arkansas\n",
       "5               California\n",
       "6                 Colorado\n",
       "7              Connecticut\n",
       "8                 Delaware\n",
       "9     District of Columbia\n",
       "10                 Florida\n",
       "11                 Georgia\n",
       "12                  Hawaii\n",
       "13                   Idaho\n",
       "14                Illinois\n",
       "15                 Indiana\n",
       "16                    Iowa\n",
       "17                  Kansas\n",
       "18                Kentucky\n",
       "19               Louisiana\n",
       "20                   Maine\n",
       "21                Maryland\n",
       "22           Massachusetts\n",
       "23                Michigan\n",
       "24               Minnesota\n",
       "25             Mississippi\n",
       "26                Missouri\n",
       "27                 Montana\n",
       "28                Nebraska\n",
       "29                  Nevada\n",
       "30           New Hampshire\n",
       "31              New Jersey\n",
       "32              New Mexico\n",
       "33                New York\n",
       "34          North Carolina\n",
       "35            North Dakota\n",
       "36                    Ohio\n",
       "37                Oklahoma\n",
       "38                  Oregon\n",
       "39            Pennsylvania\n",
       "40            Rhode Island\n",
       "41          South Carolina\n",
       "42            South Dakota\n",
       "43               Tennessee\n",
       "44                   Texas\n",
       "45                    Utah\n",
       "46                 Vermont\n",
       "47                Virginia\n",
       "48              Washington\n",
       "49           West Virginia\n",
       "50               Wisconsin\n",
       "51                 Wyoming\n",
       "Name: State, dtype: object"
      ]
     },
     "execution_count": 113,
     "metadata": {},
     "output_type": "execute_result"
    }
   ],
   "source": [
    "act_17['State']"
   ]
  },
  {
   "cell_type": "markdown",
   "metadata": {},
   "source": [
    "Findings:\n",
    "\n",
    "ACT 17-19 have the same number of rows but different columns as well as spelling for the overlapping ones<br> \n",
    "ACT 17 also has National average<br>\n",
    "\n",
    "ACT 17 row 51, Composite score is not a float<br>\n",
    "\n",
    "ACT 18, bottom 3 states in Composite score have 100% participation: Nevada, South Carolina, Missippi\n",
    "\n",
    "\n",
    "SAT 19 has additional states Virgin Island and Puerto Rico\n",
    "\n",
    "SAT 17-19 different number of columns as well as spelling for the overlapping ones"
   ]
  },
  {
   "cell_type": "code",
   "execution_count": 117,
   "metadata": {},
   "outputs": [
    {
     "data": {
      "text/plain": [
       "0    National\n",
       "1     Alabama\n",
       "2      Alaska\n",
       "3     Arizona\n",
       "4    Arkansas\n",
       "Name: State, dtype: object"
      ]
     },
     "execution_count": 117,
     "metadata": {},
     "output_type": "execute_result"
    }
   ],
   "source": [
    "act_17['State'].head()"
   ]
  },
  {
   "cell_type": "code",
   "execution_count": 121,
   "metadata": {},
   "outputs": [
    {
     "data": {
      "text/html": [
       "<div>\n",
       "<style scoped>\n",
       "    .dataframe tbody tr th:only-of-type {\n",
       "        vertical-align: middle;\n",
       "    }\n",
       "\n",
       "    .dataframe tbody tr th {\n",
       "        vertical-align: top;\n",
       "    }\n",
       "\n",
       "    .dataframe thead th {\n",
       "        text-align: right;\n",
       "    }\n",
       "</style>\n",
       "<table border=\"1\" class=\"dataframe\">\n",
       "  <thead>\n",
       "    <tr style=\"text-align: right;\">\n",
       "      <th></th>\n",
       "      <th>State</th>\n",
       "      <th>Participation</th>\n",
       "      <th>English</th>\n",
       "      <th>Math</th>\n",
       "      <th>Reading</th>\n",
       "      <th>Science</th>\n",
       "      <th>Composite</th>\n",
       "    </tr>\n",
       "  </thead>\n",
       "  <tbody>\n",
       "    <tr>\n",
       "      <th>51</th>\n",
       "      <td>Wyoming</td>\n",
       "      <td>100%</td>\n",
       "      <td>19.4</td>\n",
       "      <td>19.8</td>\n",
       "      <td>20.8</td>\n",
       "      <td>20.6</td>\n",
       "      <td>20.2x</td>\n",
       "    </tr>\n",
       "    <tr>\n",
       "      <th>50</th>\n",
       "      <td>Wisconsin</td>\n",
       "      <td>100%</td>\n",
       "      <td>19.7</td>\n",
       "      <td>20.4</td>\n",
       "      <td>20.6</td>\n",
       "      <td>20.9</td>\n",
       "      <td>20.5</td>\n",
       "    </tr>\n",
       "    <tr>\n",
       "      <th>49</th>\n",
       "      <td>West Virginia</td>\n",
       "      <td>69%</td>\n",
       "      <td>20.0</td>\n",
       "      <td>19.4</td>\n",
       "      <td>21.2</td>\n",
       "      <td>20.5</td>\n",
       "      <td>20.4</td>\n",
       "    </tr>\n",
       "  </tbody>\n",
       "</table>\n",
       "</div>"
      ],
      "text/plain": [
       "            State Participation  English  Math  Reading  Science Composite\n",
       "51        Wyoming          100%     19.4  19.8     20.8     20.6     20.2x\n",
       "50      Wisconsin          100%     19.7  20.4     20.6     20.9      20.5\n",
       "49  West Virginia           69%     20.0  19.4     21.2     20.5      20.4"
      ]
     },
     "execution_count": 121,
     "metadata": {},
     "output_type": "execute_result"
    }
   ],
   "source": [
    "\n",
    "act_17.sort_values('State',ascending=False).head(3)"
   ]
  },
  {
   "cell_type": "code",
   "execution_count": 132,
   "metadata": {},
   "outputs": [],
   "source": [
    "act_17.loc[0,'Composite'] = 21.0"
   ]
  },
  {
   "cell_type": "code",
   "execution_count": 133,
   "metadata": {},
   "outputs": [
    {
     "name": "stdout",
     "output_type": "stream",
     "text": [
      "<class 'pandas.core.frame.DataFrame'>\n",
      "RangeIndex: 52 entries, 0 to 51\n",
      "Data columns (total 7 columns):\n",
      " #   Column         Non-Null Count  Dtype  \n",
      "---  ------         --------------  -----  \n",
      " 0   State          52 non-null     object \n",
      " 1   Participation  52 non-null     object \n",
      " 2   English        52 non-null     float64\n",
      " 3   Math           52 non-null     float64\n",
      " 4   Reading        52 non-null     float64\n",
      " 5   Science        52 non-null     float64\n",
      " 6   Composite      52 non-null     object \n",
      "dtypes: float64(4), object(3)\n",
      "memory usage: 3.0+ KB\n"
     ]
    }
   ],
   "source": [
    "act_17.info()"
   ]
  },
  {
   "cell_type": "code",
   "execution_count": 146,
   "metadata": {},
   "outputs": [
    {
     "data": {
      "text/plain": [
       "str"
      ]
     },
     "execution_count": 146,
     "metadata": {},
     "output_type": "execute_result"
    }
   ],
   "source": [
    "type(act_17.loc[1,'Composite'])"
   ]
  },
  {
   "cell_type": "code",
   "execution_count": 175,
   "metadata": {},
   "outputs": [],
   "source": [
    "for i in range(len(act_17)):\n",
    "    try:\n",
    "        act_17.loc[i,'Composite'] = float(act_17.loc[i,'Composite'])\n",
    "    except:\n",
    "        print (act_17.Composite[i],i)"
   ]
  },
  {
   "cell_type": "code",
   "execution_count": 173,
   "metadata": {},
   "outputs": [],
   "source": [
    "act_17.loc[51,'Composite'] = 20.2"
   ]
  },
  {
   "cell_type": "code",
   "execution_count": 162,
   "metadata": {},
   "outputs": [
    {
     "data": {
      "text/plain": [
       "float"
      ]
     },
     "execution_count": 162,
     "metadata": {},
     "output_type": "execute_result"
    }
   ],
   "source": [
    "type(act_17.loc[1,'Composite'])"
   ]
  },
  {
   "cell_type": "code",
   "execution_count": 163,
   "metadata": {},
   "outputs": [
    {
     "data": {
      "text/plain": [
       "19.2"
      ]
     },
     "execution_count": 163,
     "metadata": {},
     "output_type": "execute_result"
    }
   ],
   "source": [
    "act_17.Composite[1]"
   ]
  },
  {
   "cell_type": "code",
   "execution_count": 170,
   "metadata": {},
   "outputs": [],
   "source": [
    "act_17.loc[1,'Composite'] = '19.2'"
   ]
  },
  {
   "cell_type": "code",
   "execution_count": 171,
   "metadata": {},
   "outputs": [
    {
     "data": {
      "text/plain": [
       "'19.2'"
      ]
     },
     "execution_count": 171,
     "metadata": {},
     "output_type": "execute_result"
    }
   ],
   "source": [
    "act_17.loc[1,'Composite'] "
   ]
  },
  {
   "cell_type": "code",
   "execution_count": 176,
   "metadata": {},
   "outputs": [
    {
     "name": "stdout",
     "output_type": "stream",
     "text": [
      "<class 'pandas.core.frame.DataFrame'>\n",
      "RangeIndex: 52 entries, 0 to 51\n",
      "Data columns (total 7 columns):\n",
      " #   Column         Non-Null Count  Dtype  \n",
      "---  ------         --------------  -----  \n",
      " 0   State          52 non-null     object \n",
      " 1   Participation  52 non-null     object \n",
      " 2   English        52 non-null     float64\n",
      " 3   Math           52 non-null     float64\n",
      " 4   Reading        52 non-null     float64\n",
      " 5   Science        52 non-null     float64\n",
      " 6   Composite      52 non-null     object \n",
      "dtypes: float64(4), object(3)\n",
      "memory usage: 3.0+ KB\n"
     ]
    }
   ],
   "source": [
    "act_17.info()"
   ]
  },
  {
   "cell_type": "code",
   "execution_count": 178,
   "metadata": {},
   "outputs": [
    {
     "data": {
      "text/plain": [
       "float"
      ]
     },
     "execution_count": 178,
     "metadata": {},
     "output_type": "execute_result"
    }
   ],
   "source": [
    "type(act_17['Composite'][0])"
   ]
  },
  {
   "cell_type": "code",
   "execution_count": 179,
   "metadata": {},
   "outputs": [
    {
     "data": {
      "text/plain": [
       "21.509615384615383"
      ]
     },
     "execution_count": 179,
     "metadata": {},
     "output_type": "execute_result"
    }
   ],
   "source": [
    "act_17['Composite'].mean()"
   ]
  },
  {
   "cell_type": "code",
   "execution_count": 182,
   "metadata": {},
   "outputs": [
    {
     "data": {
      "text/html": [
       "<div>\n",
       "<style scoped>\n",
       "    .dataframe tbody tr th:only-of-type {\n",
       "        vertical-align: middle;\n",
       "    }\n",
       "\n",
       "    .dataframe tbody tr th {\n",
       "        vertical-align: top;\n",
       "    }\n",
       "\n",
       "    .dataframe thead th {\n",
       "        text-align: right;\n",
       "    }\n",
       "</style>\n",
       "<table border=\"1\" class=\"dataframe\">\n",
       "  <thead>\n",
       "    <tr style=\"text-align: right;\">\n",
       "      <th></th>\n",
       "      <th>State</th>\n",
       "      <th>Participation</th>\n",
       "      <th>English</th>\n",
       "      <th>Math</th>\n",
       "      <th>Reading</th>\n",
       "      <th>Science</th>\n",
       "      <th>Composite</th>\n",
       "    </tr>\n",
       "  </thead>\n",
       "  <tbody>\n",
       "    <tr>\n",
       "      <th>0</th>\n",
       "      <td>National</td>\n",
       "      <td>60%</td>\n",
       "      <td>20.3</td>\n",
       "      <td>20.7</td>\n",
       "      <td>21.4</td>\n",
       "      <td>21.0</td>\n",
       "      <td>21</td>\n",
       "    </tr>\n",
       "  </tbody>\n",
       "</table>\n",
       "</div>"
      ],
      "text/plain": [
       "      State Participation  English  Math  Reading  Science Composite\n",
       "0  National           60%     20.3  20.7     21.4     21.0        21"
      ]
     },
     "execution_count": 182,
     "metadata": {},
     "output_type": "execute_result"
    }
   ],
   "source": [
    "act_17.loc[act_17.State == 'National']"
   ]
  },
  {
   "cell_type": "code",
   "execution_count": null,
   "metadata": {},
   "outputs": [],
   "source": []
  },
  {
   "cell_type": "code",
   "execution_count": 185,
   "metadata": {},
   "outputs": [
    {
     "ename": "TypeError",
     "evalue": "'Series' objects are mutable, thus they cannot be hashed",
     "output_type": "error",
     "traceback": [
      "\u001b[0;31m---------------------------------------------------------------------------\u001b[0m",
      "\u001b[0;31mTypeError\u001b[0m                                 Traceback (most recent call last)",
      "\u001b[0;32m<ipython-input-185-9ad3ccee5f58>\u001b[0m in \u001b[0;36m<module>\u001b[0;34m\u001b[0m\n\u001b[0;32m----> 1\u001b[0;31m \u001b[0;34m[\u001b[0m\u001b[0mprint\u001b[0m\u001b[0;34m(\u001b[0m\u001b[0mx\u001b[0m\u001b[0;34m)\u001b[0m \u001b[0;32mfor\u001b[0m \u001b[0mx\u001b[0m \u001b[0;32min\u001b[0m \u001b[0mact_18\u001b[0m\u001b[0;34m.\u001b[0m\u001b[0mState\u001b[0m \u001b[0;32mnot\u001b[0m \u001b[0;32min\u001b[0m \u001b[0mact_17\u001b[0m\u001b[0;34m]\u001b[0m\u001b[0;34m\u001b[0m\u001b[0;34m\u001b[0m\u001b[0m\n\u001b[0m",
      "\u001b[0;32m~/opt/anaconda3/lib/python3.8/site-packages/pandas/core/generic.py\u001b[0m in \u001b[0;36m__contains__\u001b[0;34m(self, key)\u001b[0m\n\u001b[1;32m   1719\u001b[0m     \u001b[0;32mdef\u001b[0m \u001b[0m__contains__\u001b[0m\u001b[0;34m(\u001b[0m\u001b[0mself\u001b[0m\u001b[0;34m,\u001b[0m \u001b[0mkey\u001b[0m\u001b[0;34m)\u001b[0m \u001b[0;34m->\u001b[0m \u001b[0mbool_t\u001b[0m\u001b[0;34m:\u001b[0m\u001b[0;34m\u001b[0m\u001b[0;34m\u001b[0m\u001b[0m\n\u001b[1;32m   1720\u001b[0m         \u001b[0;34m\"\"\"True if the key is in the info axis\"\"\"\u001b[0m\u001b[0;34m\u001b[0m\u001b[0;34m\u001b[0m\u001b[0m\n\u001b[0;32m-> 1721\u001b[0;31m         \u001b[0;32mreturn\u001b[0m \u001b[0mkey\u001b[0m \u001b[0;32min\u001b[0m \u001b[0mself\u001b[0m\u001b[0;34m.\u001b[0m\u001b[0m_info_axis\u001b[0m\u001b[0;34m\u001b[0m\u001b[0;34m\u001b[0m\u001b[0m\n\u001b[0m\u001b[1;32m   1722\u001b[0m \u001b[0;34m\u001b[0m\u001b[0m\n\u001b[1;32m   1723\u001b[0m     \u001b[0;34m@\u001b[0m\u001b[0mproperty\u001b[0m\u001b[0;34m\u001b[0m\u001b[0;34m\u001b[0m\u001b[0m\n",
      "\u001b[0;32m~/opt/anaconda3/lib/python3.8/site-packages/pandas/core/indexes/base.py\u001b[0m in \u001b[0;36m__contains__\u001b[0;34m(self, key)\u001b[0m\n\u001b[1;32m   4069\u001b[0m         \u001b[0;32mFalse\u001b[0m\u001b[0;34m\u001b[0m\u001b[0;34m\u001b[0m\u001b[0m\n\u001b[1;32m   4070\u001b[0m         \"\"\"\n\u001b[0;32m-> 4071\u001b[0;31m         \u001b[0mhash\u001b[0m\u001b[0;34m(\u001b[0m\u001b[0mkey\u001b[0m\u001b[0;34m)\u001b[0m\u001b[0;34m\u001b[0m\u001b[0;34m\u001b[0m\u001b[0m\n\u001b[0m\u001b[1;32m   4072\u001b[0m         \u001b[0;32mtry\u001b[0m\u001b[0;34m:\u001b[0m\u001b[0;34m\u001b[0m\u001b[0;34m\u001b[0m\u001b[0m\n\u001b[1;32m   4073\u001b[0m             \u001b[0;32mreturn\u001b[0m \u001b[0mkey\u001b[0m \u001b[0;32min\u001b[0m \u001b[0mself\u001b[0m\u001b[0;34m.\u001b[0m\u001b[0m_engine\u001b[0m\u001b[0;34m\u001b[0m\u001b[0;34m\u001b[0m\u001b[0m\n",
      "\u001b[0;32m~/opt/anaconda3/lib/python3.8/site-packages/pandas/core/generic.py\u001b[0m in \u001b[0;36m__hash__\u001b[0;34m(self)\u001b[0m\n\u001b[1;32m   1666\u001b[0m \u001b[0;34m\u001b[0m\u001b[0m\n\u001b[1;32m   1667\u001b[0m     \u001b[0;32mdef\u001b[0m \u001b[0m__hash__\u001b[0m\u001b[0;34m(\u001b[0m\u001b[0mself\u001b[0m\u001b[0;34m)\u001b[0m\u001b[0;34m:\u001b[0m\u001b[0;34m\u001b[0m\u001b[0;34m\u001b[0m\u001b[0m\n\u001b[0;32m-> 1668\u001b[0;31m         raise TypeError(\n\u001b[0m\u001b[1;32m   1669\u001b[0m             \u001b[0;34mf\"{repr(type(self).__name__)} objects are mutable, \"\u001b[0m\u001b[0;34m\u001b[0m\u001b[0;34m\u001b[0m\u001b[0m\n\u001b[1;32m   1670\u001b[0m             \u001b[0;34mf\"thus they cannot be hashed\"\u001b[0m\u001b[0;34m\u001b[0m\u001b[0;34m\u001b[0m\u001b[0m\n",
      "\u001b[0;31mTypeError\u001b[0m: 'Series' objects are mutable, thus they cannot be hashed"
     ]
    }
   ],
   "source": [
    "[print(x) for x in act_18_tate not in act_17]"
   ]
  },
  {
   "cell_type": "code",
   "execution_count": 191,
   "metadata": {},
   "outputs": [
    {
     "data": {
      "text/html": [
       "<div>\n",
       "<style scoped>\n",
       "    .dataframe tbody tr th:only-of-type {\n",
       "        vertical-align: middle;\n",
       "    }\n",
       "\n",
       "    .dataframe tbody tr th {\n",
       "        vertical-align: top;\n",
       "    }\n",
       "\n",
       "    .dataframe thead th {\n",
       "        text-align: right;\n",
       "    }\n",
       "</style>\n",
       "<table border=\"1\" class=\"dataframe\">\n",
       "  <thead>\n",
       "    <tr style=\"text-align: right;\">\n",
       "      <th></th>\n",
       "      <th>State</th>\n",
       "      <th>Participation</th>\n",
       "      <th>Composite</th>\n",
       "    </tr>\n",
       "  </thead>\n",
       "  <tbody>\n",
       "    <tr>\n",
       "      <th>29</th>\n",
       "      <td>Nevada</td>\n",
       "      <td>100%</td>\n",
       "      <td>17.7</td>\n",
       "    </tr>\n",
       "    <tr>\n",
       "      <th>41</th>\n",
       "      <td>South Carolina</td>\n",
       "      <td>100%</td>\n",
       "      <td>18.3</td>\n",
       "    </tr>\n",
       "    <tr>\n",
       "      <th>25</th>\n",
       "      <td>Mississippi</td>\n",
       "      <td>100%</td>\n",
       "      <td>18.6</td>\n",
       "    </tr>\n",
       "    <tr>\n",
       "      <th>11</th>\n",
       "      <td>Hawaii</td>\n",
       "      <td>89%</td>\n",
       "      <td>18.9</td>\n",
       "    </tr>\n",
       "    <tr>\n",
       "      <th>34</th>\n",
       "      <td>North Carolina</td>\n",
       "      <td>100%</td>\n",
       "      <td>19.1</td>\n",
       "    </tr>\n",
       "  </tbody>\n",
       "</table>\n",
       "</div>"
      ],
      "text/plain": [
       "             State Participation  Composite\n",
       "29          Nevada          100%       17.7\n",
       "41  South Carolina          100%       18.3\n",
       "25     Mississippi          100%       18.6\n",
       "11          Hawaii           89%       18.9\n",
       "34  North Carolina          100%       19.1"
      ]
     },
     "execution_count": 191,
     "metadata": {},
     "output_type": "execute_result"
    }
   ],
   "source": [
    "act_18.sort_values('Composite',ascending=True).head(5)"
   ]
  },
  {
   "cell_type": "markdown",
   "metadata": {},
   "source": [
    "Findings:\n",
    "\n",
    "ACT 17-19 have the same number of rows but different columns as well as spelling for the overlapping ones<br> \n",
    "ACT 17 also has National average<br>\n",
    "\n",
    "ACT 17 row 51, Composite score is not a float<br>\n",
    "\n",
    "ACT 17-18, bottom 3 states in Composite score have 100% participation: Nevada, South Carolina, Missippi<br>\n",
    "ACT 19, bottom 3 states in Composite score have 100% participation: Nevada, Louisiana, Missippi\n",
    "\n",
    "\n",
    "SAT 19 has additional states Virgin Island and Puerto Rico\n",
    "\n",
    "SAT 17-19 different number of columns as well as spelling for the overlapping ones\n",
    "\n",
    "SAT 17 bottom 3 states are Idaho, Delaware, and District Columbia. Idaho has 93% Participation whilst the other 2 states are 100%.<br>\n",
    "SAT 18 bottom 3 state Distric Columbia (92%), Delaware (100%) and West Virginia (28%).<br>\n",
    "SAT 19 bottom 5 includes the 2 additional states without participation rates. West Viriginia (99%), Oklahoma (22%) and District of Columbia (94%)<br>\n",
    "\n",
    "Intended CLG MJR with top 5 average total score was less than 5 percent in terms of overall test takers per each major<br>\n",
    "Test Taker column not integer.\n"
   ]
  },
  {
   "cell_type": "code",
   "execution_count": 192,
   "metadata": {},
   "outputs": [
    {
     "data": {
      "text/html": [
       "<div>\n",
       "<style scoped>\n",
       "    .dataframe tbody tr th:only-of-type {\n",
       "        vertical-align: middle;\n",
       "    }\n",
       "\n",
       "    .dataframe tbody tr th {\n",
       "        vertical-align: top;\n",
       "    }\n",
       "\n",
       "    .dataframe thead th {\n",
       "        text-align: right;\n",
       "    }\n",
       "</style>\n",
       "<table border=\"1\" class=\"dataframe\">\n",
       "  <thead>\n",
       "    <tr style=\"text-align: right;\">\n",
       "      <th></th>\n",
       "      <th>State</th>\n",
       "      <th>Participation</th>\n",
       "      <th>English</th>\n",
       "      <th>Math</th>\n",
       "      <th>Reading</th>\n",
       "      <th>Science</th>\n",
       "      <th>Composite</th>\n",
       "    </tr>\n",
       "  </thead>\n",
       "  <tbody>\n",
       "    <tr>\n",
       "      <th>29</th>\n",
       "      <td>Nevada</td>\n",
       "      <td>100%</td>\n",
       "      <td>16.3</td>\n",
       "      <td>18.0</td>\n",
       "      <td>18.1</td>\n",
       "      <td>18.2</td>\n",
       "      <td>17.8</td>\n",
       "    </tr>\n",
       "    <tr>\n",
       "      <th>25</th>\n",
       "      <td>Mississippi</td>\n",
       "      <td>100%</td>\n",
       "      <td>18.2</td>\n",
       "      <td>18.1</td>\n",
       "      <td>18.8</td>\n",
       "      <td>18.8</td>\n",
       "      <td>18.6</td>\n",
       "    </tr>\n",
       "    <tr>\n",
       "      <th>41</th>\n",
       "      <td>South Carolina</td>\n",
       "      <td>100%</td>\n",
       "      <td>17.5</td>\n",
       "      <td>18.6</td>\n",
       "      <td>19.1</td>\n",
       "      <td>18.9</td>\n",
       "      <td>18.7</td>\n",
       "    </tr>\n",
       "    <tr>\n",
       "      <th>12</th>\n",
       "      <td>Hawaii</td>\n",
       "      <td>90%</td>\n",
       "      <td>17.8</td>\n",
       "      <td>19.2</td>\n",
       "      <td>19.2</td>\n",
       "      <td>19.3</td>\n",
       "      <td>19</td>\n",
       "    </tr>\n",
       "    <tr>\n",
       "      <th>34</th>\n",
       "      <td>North Carolina</td>\n",
       "      <td>100%</td>\n",
       "      <td>17.8</td>\n",
       "      <td>19.3</td>\n",
       "      <td>19.6</td>\n",
       "      <td>19.3</td>\n",
       "      <td>19.1</td>\n",
       "    </tr>\n",
       "  </tbody>\n",
       "</table>\n",
       "</div>"
      ],
      "text/plain": [
       "             State Participation  English  Math  Reading  Science Composite\n",
       "29          Nevada          100%     16.3  18.0     18.1     18.2      17.8\n",
       "25     Mississippi          100%     18.2  18.1     18.8     18.8      18.6\n",
       "41  South Carolina          100%     17.5  18.6     19.1     18.9      18.7\n",
       "12          Hawaii           90%     17.8  19.2     19.2     19.3        19\n",
       "34  North Carolina          100%     17.8  19.3     19.6     19.3      19.1"
      ]
     },
     "execution_count": 192,
     "metadata": {},
     "output_type": "execute_result"
    }
   ],
   "source": [
    "act_17.sort_values('Composite',ascending=True).head(5)"
   ]
  },
  {
   "cell_type": "code",
   "execution_count": 193,
   "metadata": {},
   "outputs": [
    {
     "data": {
      "text/html": [
       "<div>\n",
       "<style scoped>\n",
       "    .dataframe tbody tr th:only-of-type {\n",
       "        vertical-align: middle;\n",
       "    }\n",
       "\n",
       "    .dataframe tbody tr th {\n",
       "        vertical-align: top;\n",
       "    }\n",
       "\n",
       "    .dataframe thead th {\n",
       "        text-align: right;\n",
       "    }\n",
       "</style>\n",
       "<table border=\"1\" class=\"dataframe\">\n",
       "  <thead>\n",
       "    <tr style=\"text-align: right;\">\n",
       "      <th></th>\n",
       "      <th>State</th>\n",
       "      <th>Participation</th>\n",
       "      <th>Composite</th>\n",
       "    </tr>\n",
       "  </thead>\n",
       "  <tbody>\n",
       "    <tr>\n",
       "      <th>28</th>\n",
       "      <td>Nevada</td>\n",
       "      <td>100%</td>\n",
       "      <td>17.9</td>\n",
       "    </tr>\n",
       "    <tr>\n",
       "      <th>24</th>\n",
       "      <td>Mississippi</td>\n",
       "      <td>100%</td>\n",
       "      <td>18.4</td>\n",
       "    </tr>\n",
       "    <tr>\n",
       "      <th>18</th>\n",
       "      <td>Louisiana</td>\n",
       "      <td>100%</td>\n",
       "      <td>18.8</td>\n",
       "    </tr>\n",
       "  </tbody>\n",
       "</table>\n",
       "</div>"
      ],
      "text/plain": [
       "          State Participation  Composite\n",
       "28       Nevada          100%       17.9\n",
       "24  Mississippi          100%       18.4\n",
       "18    Louisiana          100%       18.8"
      ]
     },
     "execution_count": 193,
     "metadata": {},
     "output_type": "execute_result"
    }
   ],
   "source": [
    "act_19.sort_values('Composite',ascending=True).head(3)"
   ]
  },
  {
   "cell_type": "code",
   "execution_count": 194,
   "metadata": {},
   "outputs": [
    {
     "name": "stdout",
     "output_type": "stream",
     "text": [
      "<class 'pandas.core.frame.DataFrame'>\n",
      "RangeIndex: 51 entries, 0 to 50\n",
      "Data columns (total 5 columns):\n",
      " #   Column                              Non-Null Count  Dtype \n",
      "---  ------                              --------------  ----- \n",
      " 0   State                               51 non-null     object\n",
      " 1   Participation                       51 non-null     object\n",
      " 2   Evidence-Based Reading and Writing  51 non-null     int64 \n",
      " 3   Math                                51 non-null     int64 \n",
      " 4   Total                               51 non-null     int64 \n",
      "dtypes: int64(3), object(2)\n",
      "memory usage: 2.1+ KB\n"
     ]
    }
   ],
   "source": [
    "sat_17.info()"
   ]
  },
  {
   "cell_type": "code",
   "execution_count": null,
   "metadata": {},
   "outputs": [],
   "source": []
  },
  {
   "cell_type": "code",
   "execution_count": 196,
   "metadata": {},
   "outputs": [
    {
     "data": {
      "text/html": [
       "<div>\n",
       "<style scoped>\n",
       "    .dataframe tbody tr th:only-of-type {\n",
       "        vertical-align: middle;\n",
       "    }\n",
       "\n",
       "    .dataframe tbody tr th {\n",
       "        vertical-align: top;\n",
       "    }\n",
       "\n",
       "    .dataframe thead th {\n",
       "        text-align: right;\n",
       "    }\n",
       "</style>\n",
       "<table border=\"1\" class=\"dataframe\">\n",
       "  <thead>\n",
       "    <tr style=\"text-align: right;\">\n",
       "      <th></th>\n",
       "      <th>State</th>\n",
       "      <th>Participation</th>\n",
       "      <th>Evidence-Based Reading and Writing</th>\n",
       "      <th>Math</th>\n",
       "      <th>Total</th>\n",
       "    </tr>\n",
       "  </thead>\n",
       "  <tbody>\n",
       "    <tr>\n",
       "      <th>8</th>\n",
       "      <td>District of Columbia</td>\n",
       "      <td>100%</td>\n",
       "      <td>482</td>\n",
       "      <td>468</td>\n",
       "      <td>950</td>\n",
       "    </tr>\n",
       "    <tr>\n",
       "      <th>7</th>\n",
       "      <td>Delaware</td>\n",
       "      <td>100%</td>\n",
       "      <td>503</td>\n",
       "      <td>492</td>\n",
       "      <td>996</td>\n",
       "    </tr>\n",
       "    <tr>\n",
       "      <th>12</th>\n",
       "      <td>Idaho</td>\n",
       "      <td>93%</td>\n",
       "      <td>513</td>\n",
       "      <td>493</td>\n",
       "      <td>1005</td>\n",
       "    </tr>\n",
       "  </tbody>\n",
       "</table>\n",
       "</div>"
      ],
      "text/plain": [
       "                   State Participation  Evidence-Based Reading and Writing  \\\n",
       "8   District of Columbia          100%                                 482   \n",
       "7               Delaware          100%                                 503   \n",
       "12                 Idaho           93%                                 513   \n",
       "\n",
       "    Math  Total  \n",
       "8    468    950  \n",
       "7    492    996  \n",
       "12   493   1005  "
      ]
     },
     "execution_count": 196,
     "metadata": {},
     "output_type": "execute_result"
    }
   ],
   "source": [
    "sat_17.sort_values('Total',ascending=True).head(3)"
   ]
  },
  {
   "cell_type": "code",
   "execution_count": 198,
   "metadata": {},
   "outputs": [
    {
     "data": {
      "text/html": [
       "<div>\n",
       "<style scoped>\n",
       "    .dataframe tbody tr th:only-of-type {\n",
       "        vertical-align: middle;\n",
       "    }\n",
       "\n",
       "    .dataframe tbody tr th {\n",
       "        vertical-align: top;\n",
       "    }\n",
       "\n",
       "    .dataframe thead th {\n",
       "        text-align: right;\n",
       "    }\n",
       "</style>\n",
       "<table border=\"1\" class=\"dataframe\">\n",
       "  <thead>\n",
       "    <tr style=\"text-align: right;\">\n",
       "      <th></th>\n",
       "      <th>state</th>\n",
       "      <th>participation</th>\n",
       "      <th>evidence-based_reading_and_writing</th>\n",
       "      <th>math</th>\n",
       "      <th>total</th>\n",
       "    </tr>\n",
       "  </thead>\n",
       "  <tbody>\n",
       "    <tr>\n",
       "      <th>8</th>\n",
       "      <td>District of Columbia</td>\n",
       "      <td>92%</td>\n",
       "      <td>497</td>\n",
       "      <td>480</td>\n",
       "      <td>977</td>\n",
       "    </tr>\n",
       "    <tr>\n",
       "      <th>7</th>\n",
       "      <td>Delaware</td>\n",
       "      <td>100%</td>\n",
       "      <td>505</td>\n",
       "      <td>492</td>\n",
       "      <td>998</td>\n",
       "    </tr>\n",
       "    <tr>\n",
       "      <th>48</th>\n",
       "      <td>West Virginia</td>\n",
       "      <td>28%</td>\n",
       "      <td>513</td>\n",
       "      <td>486</td>\n",
       "      <td>999</td>\n",
       "    </tr>\n",
       "  </tbody>\n",
       "</table>\n",
       "</div>"
      ],
      "text/plain": [
       "                   state participation  evidence-based_reading_and_writing  \\\n",
       "8   District of Columbia           92%                                 497   \n",
       "7               Delaware          100%                                 505   \n",
       "48         West Virginia           28%                                 513   \n",
       "\n",
       "    math  total  \n",
       "8    480    977  \n",
       "7    492    998  \n",
       "48   486    999  "
      ]
     },
     "execution_count": 198,
     "metadata": {},
     "output_type": "execute_result"
    }
   ],
   "source": [
    "sat_18.sort_values('total',ascending=True).head(3)"
   ]
  },
  {
   "cell_type": "code",
   "execution_count": 204,
   "metadata": {
    "scrolled": true
   },
   "outputs": [
    {
     "data": {
      "text/html": [
       "<div>\n",
       "<style scoped>\n",
       "    .dataframe tbody tr th:only-of-type {\n",
       "        vertical-align: middle;\n",
       "    }\n",
       "\n",
       "    .dataframe tbody tr th {\n",
       "        vertical-align: top;\n",
       "    }\n",
       "\n",
       "    .dataframe thead th {\n",
       "        text-align: right;\n",
       "    }\n",
       "</style>\n",
       "<table border=\"1\" class=\"dataframe\">\n",
       "  <thead>\n",
       "    <tr style=\"text-align: right;\">\n",
       "      <th></th>\n",
       "      <th>State</th>\n",
       "      <th>Participation Rate</th>\n",
       "      <th>EBRW</th>\n",
       "      <th>Math</th>\n",
       "      <th>Total</th>\n",
       "    </tr>\n",
       "  </thead>\n",
       "  <tbody>\n",
       "    <tr>\n",
       "      <th>47</th>\n",
       "      <td>Virgin Islands</td>\n",
       "      <td>—</td>\n",
       "      <td>490</td>\n",
       "      <td>445</td>\n",
       "      <td>935</td>\n",
       "    </tr>\n",
       "    <tr>\n",
       "      <th>50</th>\n",
       "      <td>West Virginia</td>\n",
       "      <td>99%</td>\n",
       "      <td>483</td>\n",
       "      <td>460</td>\n",
       "      <td>943</td>\n",
       "    </tr>\n",
       "    <tr>\n",
       "      <th>39</th>\n",
       "      <td>Puerto Rico</td>\n",
       "      <td>—</td>\n",
       "      <td>483</td>\n",
       "      <td>462</td>\n",
       "      <td>944</td>\n",
       "    </tr>\n",
       "    <tr>\n",
       "      <th>36</th>\n",
       "      <td>Oklahoma</td>\n",
       "      <td>22%</td>\n",
       "      <td>490</td>\n",
       "      <td>472</td>\n",
       "      <td>963</td>\n",
       "    </tr>\n",
       "    <tr>\n",
       "      <th>8</th>\n",
       "      <td>District of Columbia</td>\n",
       "      <td>94%</td>\n",
       "      <td>495</td>\n",
       "      <td>480</td>\n",
       "      <td>975</td>\n",
       "    </tr>\n",
       "  </tbody>\n",
       "</table>\n",
       "</div>"
      ],
      "text/plain": [
       "                   State Participation Rate  EBRW  Math  Total\n",
       "47        Virgin Islands                  —   490   445    935\n",
       "50         West Virginia                99%   483   460    943\n",
       "39           Puerto Rico                  —   483   462    944\n",
       "36              Oklahoma                22%   490   472    963\n",
       "8   District of Columbia                94%   495   480    975"
      ]
     },
     "execution_count": 204,
     "metadata": {},
     "output_type": "execute_result"
    }
   ],
   "source": [
    "sat_19.sort_values('Total',ascending=True).head(5)"
   ]
  },
  {
   "cell_type": "code",
   "execution_count": 205,
   "metadata": {},
   "outputs": [
    {
     "name": "stdout",
     "output_type": "stream",
     "text": [
      "act_2017.csv                           sat_2018.csv\r\n",
      "act_2018.csv                           sat_2019.csv\r\n",
      "act_2019.csv                           sat_2019_by_intended_college_major.csv\r\n",
      "act_2019_ca.csv                        sat_2019_ca.csv\r\n",
      "sat_2017.csv                           sat_act_by_college.csv\r\n"
     ]
    }
   ],
   "source": [
    "!ls"
   ]
  },
  {
   "cell_type": "code",
   "execution_count": 207,
   "metadata": {},
   "outputs": [],
   "source": [
    "clg_mjr_sat_17 = pd.read_csv('sat_2019_by_intended_college_major.csv')"
   ]
  },
  {
   "cell_type": "code",
   "execution_count": 209,
   "metadata": {},
   "outputs": [
    {
     "data": {
      "text/html": [
       "<div>\n",
       "<style scoped>\n",
       "    .dataframe tbody tr th:only-of-type {\n",
       "        vertical-align: middle;\n",
       "    }\n",
       "\n",
       "    .dataframe tbody tr th {\n",
       "        vertical-align: top;\n",
       "    }\n",
       "\n",
       "    .dataframe thead th {\n",
       "        text-align: right;\n",
       "    }\n",
       "</style>\n",
       "<table border=\"1\" class=\"dataframe\">\n",
       "  <thead>\n",
       "    <tr style=\"text-align: right;\">\n",
       "      <th></th>\n",
       "      <th>IntendedCollegeMajor</th>\n",
       "      <th>TestTakers</th>\n",
       "      <th>Percent</th>\n",
       "      <th>Total</th>\n",
       "      <th>ReadingWriting</th>\n",
       "      <th>Math</th>\n",
       "    </tr>\n",
       "  </thead>\n",
       "  <tbody>\n",
       "    <tr>\n",
       "      <th>0</th>\n",
       "      <td>Agriculture, AgricultureOperations, and Relate...</td>\n",
       "      <td>24,913</td>\n",
       "      <td>1%</td>\n",
       "      <td>977</td>\n",
       "      <td>496</td>\n",
       "      <td>481</td>\n",
       "    </tr>\n",
       "    <tr>\n",
       "      <th>1</th>\n",
       "      <td>Architecture and Related Services</td>\n",
       "      <td>28,988</td>\n",
       "      <td>2%</td>\n",
       "      <td>1047</td>\n",
       "      <td>520</td>\n",
       "      <td>527</td>\n",
       "    </tr>\n",
       "    <tr>\n",
       "      <th>2</th>\n",
       "      <td>Area, Ethnic, Cultural, and Gender Studies</td>\n",
       "      <td>2,629</td>\n",
       "      <td>0%</td>\n",
       "      <td>1040</td>\n",
       "      <td>536</td>\n",
       "      <td>504</td>\n",
       "    </tr>\n",
       "    <tr>\n",
       "      <th>3</th>\n",
       "      <td>Biological and Biomedical Sciences</td>\n",
       "      <td>155,834</td>\n",
       "      <td>8%</td>\n",
       "      <td>1139</td>\n",
       "      <td>572</td>\n",
       "      <td>566</td>\n",
       "    </tr>\n",
       "    <tr>\n",
       "      <th>4</th>\n",
       "      <td>Business, Management, Marketing, and Related S...</td>\n",
       "      <td>221,523</td>\n",
       "      <td>12%</td>\n",
       "      <td>1072</td>\n",
       "      <td>534</td>\n",
       "      <td>537</td>\n",
       "    </tr>\n",
       "  </tbody>\n",
       "</table>\n",
       "</div>"
      ],
      "text/plain": [
       "                                IntendedCollegeMajor TestTakers Percent  \\\n",
       "0  Agriculture, AgricultureOperations, and Relate...     24,913      1%   \n",
       "1                  Architecture and Related Services     28,988      2%   \n",
       "2         Area, Ethnic, Cultural, and Gender Studies      2,629      0%   \n",
       "3                 Biological and Biomedical Sciences    155,834      8%   \n",
       "4  Business, Management, Marketing, and Related S...    221,523     12%   \n",
       "\n",
       "   Total  ReadingWriting  Math  \n",
       "0    977             496   481  \n",
       "1   1047             520   527  \n",
       "2   1040             536   504  \n",
       "3   1139             572   566  \n",
       "4   1072             534   537  "
      ]
     },
     "execution_count": 209,
     "metadata": {},
     "output_type": "execute_result"
    }
   ],
   "source": [
    "clg_mjr_sat_17.head()"
   ]
  },
  {
   "cell_type": "code",
   "execution_count": 211,
   "metadata": {
    "scrolled": true
   },
   "outputs": [
    {
     "data": {
      "text/html": [
       "<div>\n",
       "<style scoped>\n",
       "    .dataframe tbody tr th:only-of-type {\n",
       "        vertical-align: middle;\n",
       "    }\n",
       "\n",
       "    .dataframe tbody tr th {\n",
       "        vertical-align: top;\n",
       "    }\n",
       "\n",
       "    .dataframe thead th {\n",
       "        text-align: right;\n",
       "    }\n",
       "</style>\n",
       "<table border=\"1\" class=\"dataframe\">\n",
       "  <thead>\n",
       "    <tr style=\"text-align: right;\">\n",
       "      <th></th>\n",
       "      <th>IntendedCollegeMajor</th>\n",
       "      <th>TestTakers</th>\n",
       "      <th>Percent</th>\n",
       "      <th>Total</th>\n",
       "      <th>ReadingWriting</th>\n",
       "      <th>Math</th>\n",
       "    </tr>\n",
       "  </thead>\n",
       "  <tbody>\n",
       "    <tr>\n",
       "      <th>3</th>\n",
       "      <td>Biological and Biomedical Sciences</td>\n",
       "      <td>155,834</td>\n",
       "      <td>8%</td>\n",
       "      <td>1139</td>\n",
       "      <td>572</td>\n",
       "      <td>566</td>\n",
       "    </tr>\n",
       "    <tr>\n",
       "      <th>37</th>\n",
       "      <td>Undecided</td>\n",
       "      <td>126,939</td>\n",
       "      <td>7%</td>\n",
       "      <td>1069</td>\n",
       "      <td>538</td>\n",
       "      <td>532</td>\n",
       "    </tr>\n",
       "    <tr>\n",
       "      <th>35</th>\n",
       "      <td>Visual and Performing Arts, General</td>\n",
       "      <td>130,642</td>\n",
       "      <td>7%</td>\n",
       "      <td>1045</td>\n",
       "      <td>536</td>\n",
       "      <td>510</td>\n",
       "    </tr>\n",
       "    <tr>\n",
       "      <th>6</th>\n",
       "      <td>Computer and Information Sciences and Support ...</td>\n",
       "      <td>79,736</td>\n",
       "      <td>4%</td>\n",
       "      <td>1156</td>\n",
       "      <td>571</td>\n",
       "      <td>585</td>\n",
       "    </tr>\n",
       "    <tr>\n",
       "      <th>8</th>\n",
       "      <td>Education</td>\n",
       "      <td>71,882</td>\n",
       "      <td>4%</td>\n",
       "      <td>1022</td>\n",
       "      <td>519</td>\n",
       "      <td>503</td>\n",
       "    </tr>\n",
       "    <tr>\n",
       "      <th>31</th>\n",
       "      <td>Security and Protective Services</td>\n",
       "      <td>68,177</td>\n",
       "      <td>4%</td>\n",
       "      <td>975</td>\n",
       "      <td>495</td>\n",
       "      <td>479</td>\n",
       "    </tr>\n",
       "    <tr>\n",
       "      <th>29</th>\n",
       "      <td>Psychology, General</td>\n",
       "      <td>75,626</td>\n",
       "      <td>4%</td>\n",
       "      <td>1064</td>\n",
       "      <td>546</td>\n",
       "      <td>518</td>\n",
       "    </tr>\n",
       "    <tr>\n",
       "      <th>16</th>\n",
       "      <td>Legal Studies, General</td>\n",
       "      <td>35,788</td>\n",
       "      <td>2%</td>\n",
       "      <td>1104</td>\n",
       "      <td>564</td>\n",
       "      <td>540</td>\n",
       "    </tr>\n",
       "    <tr>\n",
       "      <th>5</th>\n",
       "      <td>Communication, Journalism, and Related Programs</td>\n",
       "      <td>36,332</td>\n",
       "      <td>2%</td>\n",
       "      <td>1069</td>\n",
       "      <td>550</td>\n",
       "      <td>519</td>\n",
       "    </tr>\n",
       "    <tr>\n",
       "      <th>1</th>\n",
       "      <td>Architecture and Related Services</td>\n",
       "      <td>28,988</td>\n",
       "      <td>2%</td>\n",
       "      <td>1047</td>\n",
       "      <td>520</td>\n",
       "      <td>527</td>\n",
       "    </tr>\n",
       "    <tr>\n",
       "      <th>10</th>\n",
       "      <td>Engineering Technologies/Technicians</td>\n",
       "      <td>33,595</td>\n",
       "      <td>2%</td>\n",
       "      <td>1041</td>\n",
       "      <td>512</td>\n",
       "      <td>528</td>\n",
       "    </tr>\n",
       "    <tr>\n",
       "      <th>32</th>\n",
       "      <td>Social Sciences</td>\n",
       "      <td>33,356</td>\n",
       "      <td>2%</td>\n",
       "      <td>1164</td>\n",
       "      <td>594</td>\n",
       "      <td>570</td>\n",
       "    </tr>\n",
       "    <tr>\n",
       "      <th>14</th>\n",
       "      <td>Health Professions and related Clinical Sciences</td>\n",
       "      <td>331,026</td>\n",
       "      <td>18%</td>\n",
       "      <td>1048</td>\n",
       "      <td>529</td>\n",
       "      <td>518</td>\n",
       "    </tr>\n",
       "    <tr>\n",
       "      <th>4</th>\n",
       "      <td>Business, Management, Marketing, and Related S...</td>\n",
       "      <td>221,523</td>\n",
       "      <td>12%</td>\n",
       "      <td>1072</td>\n",
       "      <td>534</td>\n",
       "      <td>537</td>\n",
       "    </tr>\n",
       "    <tr>\n",
       "      <th>9</th>\n",
       "      <td>Engineering</td>\n",
       "      <td>194,127</td>\n",
       "      <td>11%</td>\n",
       "      <td>1139</td>\n",
       "      <td>559</td>\n",
       "      <td>581</td>\n",
       "    </tr>\n",
       "    <tr>\n",
       "      <th>27</th>\n",
       "      <td>Physical Sciences</td>\n",
       "      <td>26,318</td>\n",
       "      <td>1%</td>\n",
       "      <td>1203</td>\n",
       "      <td>597</td>\n",
       "      <td>606</td>\n",
       "    </tr>\n",
       "    <tr>\n",
       "      <th>36</th>\n",
       "      <td>Other</td>\n",
       "      <td>26,888</td>\n",
       "      <td>1%</td>\n",
       "      <td>963</td>\n",
       "      <td>488</td>\n",
       "      <td>476</td>\n",
       "    </tr>\n",
       "    <tr>\n",
       "      <th>24</th>\n",
       "      <td>Parks, Recreation and Leisure Studies</td>\n",
       "      <td>13,039</td>\n",
       "      <td>1%</td>\n",
       "      <td>960</td>\n",
       "      <td>482</td>\n",
       "      <td>478</td>\n",
       "    </tr>\n",
       "    <tr>\n",
       "      <th>23</th>\n",
       "      <td>Natural resources and Conservation</td>\n",
       "      <td>10,147</td>\n",
       "      <td>1%</td>\n",
       "      <td>1104</td>\n",
       "      <td>562</td>\n",
       "      <td>543</td>\n",
       "    </tr>\n",
       "    <tr>\n",
       "      <th>0</th>\n",
       "      <td>Agriculture, AgricultureOperations, and Relate...</td>\n",
       "      <td>24,913</td>\n",
       "      <td>1%</td>\n",
       "      <td>977</td>\n",
       "      <td>496</td>\n",
       "      <td>481</td>\n",
       "    </tr>\n",
       "    <tr>\n",
       "      <th>13</th>\n",
       "      <td>Foreign Languages and Literatures, General</td>\n",
       "      <td>9,936</td>\n",
       "      <td>1%</td>\n",
       "      <td>1102</td>\n",
       "      <td>566</td>\n",
       "      <td>536</td>\n",
       "    </tr>\n",
       "    <tr>\n",
       "      <th>15</th>\n",
       "      <td>History, General</td>\n",
       "      <td>12,611</td>\n",
       "      <td>1%</td>\n",
       "      <td>1090</td>\n",
       "      <td>563</td>\n",
       "      <td>527</td>\n",
       "    </tr>\n",
       "    <tr>\n",
       "      <th>11</th>\n",
       "      <td>English Language and Literature/Letters</td>\n",
       "      <td>16,233</td>\n",
       "      <td>1%</td>\n",
       "      <td>1119</td>\n",
       "      <td>585</td>\n",
       "      <td>533</td>\n",
       "    </tr>\n",
       "    <tr>\n",
       "      <th>19</th>\n",
       "      <td>Mathematics and Statistics</td>\n",
       "      <td>16,508</td>\n",
       "      <td>1%</td>\n",
       "      <td>1242</td>\n",
       "      <td>597</td>\n",
       "      <td>646</td>\n",
       "    </tr>\n",
       "    <tr>\n",
       "      <th>17</th>\n",
       "      <td>Liberal Arts and Sciences, General Studies and...</td>\n",
       "      <td>8,611</td>\n",
       "      <td>0%</td>\n",
       "      <td>1140</td>\n",
       "      <td>584</td>\n",
       "      <td>556</td>\n",
       "    </tr>\n",
       "    <tr>\n",
       "      <th>25</th>\n",
       "      <td>Personal and Culinary Services, General</td>\n",
       "      <td>6,668</td>\n",
       "      <td>0%</td>\n",
       "      <td>929</td>\n",
       "      <td>474</td>\n",
       "      <td>456</td>\n",
       "    </tr>\n",
       "    <tr>\n",
       "      <th>26</th>\n",
       "      <td>Philosophy and Religious Studies</td>\n",
       "      <td>3,381</td>\n",
       "      <td>0%</td>\n",
       "      <td>1120</td>\n",
       "      <td>572</td>\n",
       "      <td>548</td>\n",
       "    </tr>\n",
       "    <tr>\n",
       "      <th>18</th>\n",
       "      <td>Library Science/Librarianship</td>\n",
       "      <td>283</td>\n",
       "      <td>0%</td>\n",
       "      <td>1105</td>\n",
       "      <td>577</td>\n",
       "      <td>527</td>\n",
       "    </tr>\n",
       "    <tr>\n",
       "      <th>28</th>\n",
       "      <td>Precision Production</td>\n",
       "      <td>319</td>\n",
       "      <td>0%</td>\n",
       "      <td>932</td>\n",
       "      <td>466</td>\n",
       "      <td>466</td>\n",
       "    </tr>\n",
       "    <tr>\n",
       "      <th>21</th>\n",
       "      <td>Military Technologies</td>\n",
       "      <td>7,448</td>\n",
       "      <td>0%</td>\n",
       "      <td>984</td>\n",
       "      <td>498</td>\n",
       "      <td>486</td>\n",
       "    </tr>\n",
       "    <tr>\n",
       "      <th>30</th>\n",
       "      <td>Public Administration and Social Service Profe...</td>\n",
       "      <td>7,852</td>\n",
       "      <td>0%</td>\n",
       "      <td>1001</td>\n",
       "      <td>513</td>\n",
       "      <td>488</td>\n",
       "    </tr>\n",
       "    <tr>\n",
       "      <th>12</th>\n",
       "      <td>Family and Consumer Sciences/Human Sciences</td>\n",
       "      <td>6,469</td>\n",
       "      <td>0%</td>\n",
       "      <td>953</td>\n",
       "      <td>484</td>\n",
       "      <td>469</td>\n",
       "    </tr>\n",
       "    <tr>\n",
       "      <th>22</th>\n",
       "      <td>Multi/Interdisciplinary Studies</td>\n",
       "      <td>2,979</td>\n",
       "      <td>0%</td>\n",
       "      <td>1155</td>\n",
       "      <td>581</td>\n",
       "      <td>574</td>\n",
       "    </tr>\n",
       "    <tr>\n",
       "      <th>33</th>\n",
       "      <td>Theology and Religious Vocations</td>\n",
       "      <td>1,991</td>\n",
       "      <td>0%</td>\n",
       "      <td>1096</td>\n",
       "      <td>561</td>\n",
       "      <td>535</td>\n",
       "    </tr>\n",
       "    <tr>\n",
       "      <th>34</th>\n",
       "      <td>Transportation and Materials Moving</td>\n",
       "      <td>1,105</td>\n",
       "      <td>0%</td>\n",
       "      <td>1019</td>\n",
       "      <td>511</td>\n",
       "      <td>508</td>\n",
       "    </tr>\n",
       "    <tr>\n",
       "      <th>7</th>\n",
       "      <td>Construction Trades, General</td>\n",
       "      <td>2,500</td>\n",
       "      <td>0%</td>\n",
       "      <td>919</td>\n",
       "      <td>459</td>\n",
       "      <td>460</td>\n",
       "    </tr>\n",
       "    <tr>\n",
       "      <th>2</th>\n",
       "      <td>Area, Ethnic, Cultural, and Gender Studies</td>\n",
       "      <td>2,629</td>\n",
       "      <td>0%</td>\n",
       "      <td>1040</td>\n",
       "      <td>536</td>\n",
       "      <td>504</td>\n",
       "    </tr>\n",
       "    <tr>\n",
       "      <th>20</th>\n",
       "      <td>Mechanic and Repair Technologies/Technicians</td>\n",
       "      <td>6,592</td>\n",
       "      <td>0%</td>\n",
       "      <td>916</td>\n",
       "      <td>458</td>\n",
       "      <td>458</td>\n",
       "    </tr>\n",
       "  </tbody>\n",
       "</table>\n",
       "</div>"
      ],
      "text/plain": [
       "                                 IntendedCollegeMajor TestTakers Percent  \\\n",
       "3                  Biological and Biomedical Sciences    155,834      8%   \n",
       "37                                          Undecided    126,939      7%   \n",
       "35                Visual and Performing Arts, General    130,642      7%   \n",
       "6   Computer and Information Sciences and Support ...     79,736      4%   \n",
       "8                                           Education     71,882      4%   \n",
       "31                   Security and Protective Services     68,177      4%   \n",
       "29                                Psychology, General     75,626      4%   \n",
       "16                             Legal Studies, General     35,788      2%   \n",
       "5     Communication, Journalism, and Related Programs     36,332      2%   \n",
       "1                   Architecture and Related Services     28,988      2%   \n",
       "10               Engineering Technologies/Technicians     33,595      2%   \n",
       "32                                    Social Sciences     33,356      2%   \n",
       "14   Health Professions and related Clinical Sciences    331,026     18%   \n",
       "4   Business, Management, Marketing, and Related S...    221,523     12%   \n",
       "9                                         Engineering    194,127     11%   \n",
       "27                                  Physical Sciences     26,318      1%   \n",
       "36                                              Other     26,888      1%   \n",
       "24              Parks, Recreation and Leisure Studies     13,039      1%   \n",
       "23                 Natural resources and Conservation     10,147      1%   \n",
       "0   Agriculture, AgricultureOperations, and Relate...     24,913      1%   \n",
       "13         Foreign Languages and Literatures, General      9,936      1%   \n",
       "15                                   History, General     12,611      1%   \n",
       "11            English Language and Literature/Letters     16,233      1%   \n",
       "19                         Mathematics and Statistics     16,508      1%   \n",
       "17  Liberal Arts and Sciences, General Studies and...      8,611      0%   \n",
       "25            Personal and Culinary Services, General      6,668      0%   \n",
       "26                   Philosophy and Religious Studies      3,381      0%   \n",
       "18                      Library Science/Librarianship        283      0%   \n",
       "28                               Precision Production        319      0%   \n",
       "21                              Military Technologies      7,448      0%   \n",
       "30  Public Administration and Social Service Profe...      7,852      0%   \n",
       "12        Family and Consumer Sciences/Human Sciences      6,469      0%   \n",
       "22                    Multi/Interdisciplinary Studies      2,979      0%   \n",
       "33                   Theology and Religious Vocations      1,991      0%   \n",
       "34                Transportation and Materials Moving      1,105      0%   \n",
       "7                        Construction Trades, General      2,500      0%   \n",
       "2          Area, Ethnic, Cultural, and Gender Studies      2,629      0%   \n",
       "20       Mechanic and Repair Technologies/Technicians      6,592      0%   \n",
       "\n",
       "    Total  ReadingWriting  Math  \n",
       "3    1139             572   566  \n",
       "37   1069             538   532  \n",
       "35   1045             536   510  \n",
       "6    1156             571   585  \n",
       "8    1022             519   503  \n",
       "31    975             495   479  \n",
       "29   1064             546   518  \n",
       "16   1104             564   540  \n",
       "5    1069             550   519  \n",
       "1    1047             520   527  \n",
       "10   1041             512   528  \n",
       "32   1164             594   570  \n",
       "14   1048             529   518  \n",
       "4    1072             534   537  \n",
       "9    1139             559   581  \n",
       "27   1203             597   606  \n",
       "36    963             488   476  \n",
       "24    960             482   478  \n",
       "23   1104             562   543  \n",
       "0     977             496   481  \n",
       "13   1102             566   536  \n",
       "15   1090             563   527  \n",
       "11   1119             585   533  \n",
       "19   1242             597   646  \n",
       "17   1140             584   556  \n",
       "25    929             474   456  \n",
       "26   1120             572   548  \n",
       "18   1105             577   527  \n",
       "28    932             466   466  \n",
       "21    984             498   486  \n",
       "30   1001             513   488  \n",
       "12    953             484   469  \n",
       "22   1155             581   574  \n",
       "33   1096             561   535  \n",
       "34   1019             511   508  \n",
       "7     919             459   460  \n",
       "2    1040             536   504  \n",
       "20    916             458   458  "
      ]
     },
     "execution_count": 211,
     "metadata": {},
     "output_type": "execute_result"
    }
   ],
   "source": [
    "clg_mjr_sat_17.sort_values('Percent',ascending=False)"
   ]
  },
  {
   "cell_type": "code",
   "execution_count": 212,
   "metadata": {
    "scrolled": true
   },
   "outputs": [
    {
     "name": "stdout",
     "output_type": "stream",
     "text": [
      "<class 'pandas.core.frame.DataFrame'>\n",
      "RangeIndex: 38 entries, 0 to 37\n",
      "Data columns (total 6 columns):\n",
      " #   Column                Non-Null Count  Dtype \n",
      "---  ------                --------------  ----- \n",
      " 0   IntendedCollegeMajor  38 non-null     object\n",
      " 1   TestTakers            38 non-null     object\n",
      " 2   Percent               38 non-null     object\n",
      " 3   Total                 38 non-null     int64 \n",
      " 4   ReadingWriting        38 non-null     int64 \n",
      " 5   Math                  38 non-null     int64 \n",
      "dtypes: int64(3), object(3)\n",
      "memory usage: 1.9+ KB\n"
     ]
    }
   ],
   "source": [
    "clg_mjr_sat_17.info()"
   ]
  },
  {
   "cell_type": "code",
   "execution_count": 216,
   "metadata": {},
   "outputs": [
    {
     "data": {
      "text/html": [
       "<div>\n",
       "<style scoped>\n",
       "    .dataframe tbody tr th:only-of-type {\n",
       "        vertical-align: middle;\n",
       "    }\n",
       "\n",
       "    .dataframe tbody tr th {\n",
       "        vertical-align: top;\n",
       "    }\n",
       "\n",
       "    .dataframe thead th {\n",
       "        text-align: right;\n",
       "    }\n",
       "</style>\n",
       "<table border=\"1\" class=\"dataframe\">\n",
       "  <thead>\n",
       "    <tr style=\"text-align: right;\">\n",
       "      <th></th>\n",
       "      <th>IntendedCollegeMajor</th>\n",
       "      <th>TestTakers</th>\n",
       "      <th>Percent</th>\n",
       "      <th>Total</th>\n",
       "      <th>ReadingWriting</th>\n",
       "      <th>Math</th>\n",
       "    </tr>\n",
       "  </thead>\n",
       "  <tbody>\n",
       "    <tr>\n",
       "      <th>19</th>\n",
       "      <td>Mathematics and Statistics</td>\n",
       "      <td>16,508</td>\n",
       "      <td>1%</td>\n",
       "      <td>1242</td>\n",
       "      <td>597</td>\n",
       "      <td>646</td>\n",
       "    </tr>\n",
       "    <tr>\n",
       "      <th>27</th>\n",
       "      <td>Physical Sciences</td>\n",
       "      <td>26,318</td>\n",
       "      <td>1%</td>\n",
       "      <td>1203</td>\n",
       "      <td>597</td>\n",
       "      <td>606</td>\n",
       "    </tr>\n",
       "    <tr>\n",
       "      <th>32</th>\n",
       "      <td>Social Sciences</td>\n",
       "      <td>33,356</td>\n",
       "      <td>2%</td>\n",
       "      <td>1164</td>\n",
       "      <td>594</td>\n",
       "      <td>570</td>\n",
       "    </tr>\n",
       "    <tr>\n",
       "      <th>6</th>\n",
       "      <td>Computer and Information Sciences and Support ...</td>\n",
       "      <td>79,736</td>\n",
       "      <td>4%</td>\n",
       "      <td>1156</td>\n",
       "      <td>571</td>\n",
       "      <td>585</td>\n",
       "    </tr>\n",
       "    <tr>\n",
       "      <th>22</th>\n",
       "      <td>Multi/Interdisciplinary Studies</td>\n",
       "      <td>2,979</td>\n",
       "      <td>0%</td>\n",
       "      <td>1155</td>\n",
       "      <td>581</td>\n",
       "      <td>574</td>\n",
       "    </tr>\n",
       "  </tbody>\n",
       "</table>\n",
       "</div>"
      ],
      "text/plain": [
       "                                 IntendedCollegeMajor TestTakers Percent  \\\n",
       "19                         Mathematics and Statistics     16,508      1%   \n",
       "27                                  Physical Sciences     26,318      1%   \n",
       "32                                    Social Sciences     33,356      2%   \n",
       "6   Computer and Information Sciences and Support ...     79,736      4%   \n",
       "22                    Multi/Interdisciplinary Studies      2,979      0%   \n",
       "\n",
       "    Total  ReadingWriting  Math  \n",
       "19   1242             597   646  \n",
       "27   1203             597   606  \n",
       "32   1164             594   570  \n",
       "6    1156             571   585  \n",
       "22   1155             581   574  "
      ]
     },
     "execution_count": 216,
     "metadata": {},
     "output_type": "execute_result"
    }
   ],
   "source": [
    "clg_mjr_sat_17.sort_values('Total',ascending=False).head()"
   ]
  },
  {
   "cell_type": "code",
   "execution_count": 215,
   "metadata": {},
   "outputs": [
    {
     "data": {
      "text/html": [
       "<div>\n",
       "<style scoped>\n",
       "    .dataframe tbody tr th:only-of-type {\n",
       "        vertical-align: middle;\n",
       "    }\n",
       "\n",
       "    .dataframe tbody tr th {\n",
       "        vertical-align: top;\n",
       "    }\n",
       "\n",
       "    .dataframe thead th {\n",
       "        text-align: right;\n",
       "    }\n",
       "</style>\n",
       "<table border=\"1\" class=\"dataframe\">\n",
       "  <thead>\n",
       "    <tr style=\"text-align: right;\">\n",
       "      <th></th>\n",
       "      <th>IntendedCollegeMajor</th>\n",
       "      <th>TestTakers</th>\n",
       "      <th>Percent</th>\n",
       "      <th>Total</th>\n",
       "      <th>ReadingWriting</th>\n",
       "      <th>Math</th>\n",
       "    </tr>\n",
       "  </thead>\n",
       "  <tbody>\n",
       "    <tr>\n",
       "      <th>13</th>\n",
       "      <td>Foreign Languages and Literatures, General</td>\n",
       "      <td>9,936</td>\n",
       "      <td>1%</td>\n",
       "      <td>1102</td>\n",
       "      <td>566</td>\n",
       "      <td>536</td>\n",
       "    </tr>\n",
       "    <tr>\n",
       "      <th>17</th>\n",
       "      <td>Liberal Arts and Sciences, General Studies and...</td>\n",
       "      <td>8,611</td>\n",
       "      <td>0%</td>\n",
       "      <td>1140</td>\n",
       "      <td>584</td>\n",
       "      <td>556</td>\n",
       "    </tr>\n",
       "    <tr>\n",
       "      <th>6</th>\n",
       "      <td>Computer and Information Sciences and Support ...</td>\n",
       "      <td>79,736</td>\n",
       "      <td>4%</td>\n",
       "      <td>1156</td>\n",
       "      <td>571</td>\n",
       "      <td>585</td>\n",
       "    </tr>\n",
       "    <tr>\n",
       "      <th>29</th>\n",
       "      <td>Psychology, General</td>\n",
       "      <td>75,626</td>\n",
       "      <td>4%</td>\n",
       "      <td>1064</td>\n",
       "      <td>546</td>\n",
       "      <td>518</td>\n",
       "    </tr>\n",
       "    <tr>\n",
       "      <th>8</th>\n",
       "      <td>Education</td>\n",
       "      <td>71,882</td>\n",
       "      <td>4%</td>\n",
       "      <td>1022</td>\n",
       "      <td>519</td>\n",
       "      <td>503</td>\n",
       "    </tr>\n",
       "  </tbody>\n",
       "</table>\n",
       "</div>"
      ],
      "text/plain": [
       "                                 IntendedCollegeMajor TestTakers Percent  \\\n",
       "13         Foreign Languages and Literatures, General      9,936      1%   \n",
       "17  Liberal Arts and Sciences, General Studies and...      8,611      0%   \n",
       "6   Computer and Information Sciences and Support ...     79,736      4%   \n",
       "29                                Psychology, General     75,626      4%   \n",
       "8                                           Education     71,882      4%   \n",
       "\n",
       "    Total  ReadingWriting  Math  \n",
       "13   1102             566   536  \n",
       "17   1140             584   556  \n",
       "6    1156             571   585  \n",
       "29   1064             546   518  \n",
       "8    1022             519   503  "
      ]
     },
     "execution_count": 215,
     "metadata": {},
     "output_type": "execute_result"
    }
   ],
   "source": [
    "clg_mjr_sat_17.sort_values('TestTakers',ascending=False).head()"
   ]
  },
  {
   "cell_type": "code",
   "execution_count": 219,
   "metadata": {},
   "outputs": [
    {
     "data": {
      "text/plain": [
       "12500"
      ]
     },
     "execution_count": 219,
     "metadata": {},
     "output_type": "execute_result"
    }
   ],
   "source": [
    "int(('12,500').replace(',','_'))"
   ]
  },
  {
   "cell_type": "code",
   "execution_count": 224,
   "metadata": {},
   "outputs": [],
   "source": [
    "for x in range(len(clg_mjr_sat_17)):\n",
    "    clg_mjr_sat_17.loc[x,'TestTakers'] = int((clg_mjr_sat_17.loc[x,'TestTakers']).replace(',','_'))"
   ]
  },
  {
   "cell_type": "code",
   "execution_count": 226,
   "metadata": {},
   "outputs": [
    {
     "data": {
      "text/plain": [
       "0     24913\n",
       "1     28988\n",
       "2      2629\n",
       "3    155834\n",
       "4    221523\n",
       "Name: TestTakers, dtype: object"
      ]
     },
     "execution_count": 226,
     "metadata": {},
     "output_type": "execute_result"
    }
   ],
   "source": [
    "clg_mjr_sat_17.loc[:,'TestTakers'].head()"
   ]
  },
  {
   "cell_type": "code",
   "execution_count": 230,
   "metadata": {},
   "outputs": [
    {
     "data": {
      "text/html": [
       "<div>\n",
       "<style scoped>\n",
       "    .dataframe tbody tr th:only-of-type {\n",
       "        vertical-align: middle;\n",
       "    }\n",
       "\n",
       "    .dataframe tbody tr th {\n",
       "        vertical-align: top;\n",
       "    }\n",
       "\n",
       "    .dataframe thead th {\n",
       "        text-align: right;\n",
       "    }\n",
       "</style>\n",
       "<table border=\"1\" class=\"dataframe\">\n",
       "  <thead>\n",
       "    <tr style=\"text-align: right;\">\n",
       "      <th></th>\n",
       "      <th>IntendedCollegeMajor</th>\n",
       "      <th>TestTakers</th>\n",
       "      <th>Percent</th>\n",
       "      <th>Total</th>\n",
       "      <th>ReadingWriting</th>\n",
       "      <th>Math</th>\n",
       "    </tr>\n",
       "  </thead>\n",
       "  <tbody>\n",
       "    <tr>\n",
       "      <th>14</th>\n",
       "      <td>Health Professions and related Clinical Sciences</td>\n",
       "      <td>331026</td>\n",
       "      <td>18%</td>\n",
       "      <td>1048</td>\n",
       "      <td>529</td>\n",
       "      <td>518</td>\n",
       "    </tr>\n",
       "    <tr>\n",
       "      <th>4</th>\n",
       "      <td>Business, Management, Marketing, and Related S...</td>\n",
       "      <td>221523</td>\n",
       "      <td>12%</td>\n",
       "      <td>1072</td>\n",
       "      <td>534</td>\n",
       "      <td>537</td>\n",
       "    </tr>\n",
       "    <tr>\n",
       "      <th>9</th>\n",
       "      <td>Engineering</td>\n",
       "      <td>194127</td>\n",
       "      <td>11%</td>\n",
       "      <td>1139</td>\n",
       "      <td>559</td>\n",
       "      <td>581</td>\n",
       "    </tr>\n",
       "    <tr>\n",
       "      <th>3</th>\n",
       "      <td>Biological and Biomedical Sciences</td>\n",
       "      <td>155834</td>\n",
       "      <td>8%</td>\n",
       "      <td>1139</td>\n",
       "      <td>572</td>\n",
       "      <td>566</td>\n",
       "    </tr>\n",
       "    <tr>\n",
       "      <th>35</th>\n",
       "      <td>Visual and Performing Arts, General</td>\n",
       "      <td>130642</td>\n",
       "      <td>7%</td>\n",
       "      <td>1045</td>\n",
       "      <td>536</td>\n",
       "      <td>510</td>\n",
       "    </tr>\n",
       "  </tbody>\n",
       "</table>\n",
       "</div>"
      ],
      "text/plain": [
       "                                 IntendedCollegeMajor TestTakers Percent  \\\n",
       "14   Health Professions and related Clinical Sciences     331026     18%   \n",
       "4   Business, Management, Marketing, and Related S...     221523     12%   \n",
       "9                                         Engineering     194127     11%   \n",
       "3                  Biological and Biomedical Sciences     155834      8%   \n",
       "35                Visual and Performing Arts, General     130642      7%   \n",
       "\n",
       "    Total  ReadingWriting  Math  \n",
       "14   1048             529   518  \n",
       "4    1072             534   537  \n",
       "9    1139             559   581  \n",
       "3    1139             572   566  \n",
       "35   1045             536   510  "
      ]
     },
     "execution_count": 230,
     "metadata": {},
     "output_type": "execute_result"
    }
   ],
   "source": [
    "clg_mjr_sat_17.sort_values('TestTakers',ascending=False).head()"
   ]
  },
  {
   "cell_type": "code",
   "execution_count": 231,
   "metadata": {},
   "outputs": [
    {
     "data": {
      "text/html": [
       "<div>\n",
       "<style scoped>\n",
       "    .dataframe tbody tr th:only-of-type {\n",
       "        vertical-align: middle;\n",
       "    }\n",
       "\n",
       "    .dataframe tbody tr th {\n",
       "        vertical-align: top;\n",
       "    }\n",
       "\n",
       "    .dataframe thead th {\n",
       "        text-align: right;\n",
       "    }\n",
       "</style>\n",
       "<table border=\"1\" class=\"dataframe\">\n",
       "  <thead>\n",
       "    <tr style=\"text-align: right;\">\n",
       "      <th></th>\n",
       "      <th>IntendedCollegeMajor</th>\n",
       "      <th>TestTakers</th>\n",
       "      <th>Percent</th>\n",
       "      <th>Total</th>\n",
       "      <th>ReadingWriting</th>\n",
       "      <th>Math</th>\n",
       "    </tr>\n",
       "  </thead>\n",
       "  <tbody>\n",
       "    <tr>\n",
       "      <th>20</th>\n",
       "      <td>Mechanic and Repair Technologies/Technicians</td>\n",
       "      <td>6592</td>\n",
       "      <td>0%</td>\n",
       "      <td>916</td>\n",
       "      <td>458</td>\n",
       "      <td>458</td>\n",
       "    </tr>\n",
       "    <tr>\n",
       "      <th>7</th>\n",
       "      <td>Construction Trades, General</td>\n",
       "      <td>2500</td>\n",
       "      <td>0%</td>\n",
       "      <td>919</td>\n",
       "      <td>459</td>\n",
       "      <td>460</td>\n",
       "    </tr>\n",
       "    <tr>\n",
       "      <th>25</th>\n",
       "      <td>Personal and Culinary Services, General</td>\n",
       "      <td>6668</td>\n",
       "      <td>0%</td>\n",
       "      <td>929</td>\n",
       "      <td>474</td>\n",
       "      <td>456</td>\n",
       "    </tr>\n",
       "    <tr>\n",
       "      <th>28</th>\n",
       "      <td>Precision Production</td>\n",
       "      <td>319</td>\n",
       "      <td>0%</td>\n",
       "      <td>932</td>\n",
       "      <td>466</td>\n",
       "      <td>466</td>\n",
       "    </tr>\n",
       "    <tr>\n",
       "      <th>12</th>\n",
       "      <td>Family and Consumer Sciences/Human Sciences</td>\n",
       "      <td>6469</td>\n",
       "      <td>0%</td>\n",
       "      <td>953</td>\n",
       "      <td>484</td>\n",
       "      <td>469</td>\n",
       "    </tr>\n",
       "  </tbody>\n",
       "</table>\n",
       "</div>"
      ],
      "text/plain": [
       "                            IntendedCollegeMajor TestTakers Percent  Total  \\\n",
       "20  Mechanic and Repair Technologies/Technicians       6592      0%    916   \n",
       "7                   Construction Trades, General       2500      0%    919   \n",
       "25       Personal and Culinary Services, General       6668      0%    929   \n",
       "28                          Precision Production        319      0%    932   \n",
       "12   Family and Consumer Sciences/Human Sciences       6469      0%    953   \n",
       "\n",
       "    ReadingWriting  Math  \n",
       "20             458   458  \n",
       "7              459   460  \n",
       "25             474   456  \n",
       "28             466   466  \n",
       "12             484   469  "
      ]
     },
     "execution_count": 231,
     "metadata": {},
     "output_type": "execute_result"
    }
   ],
   "source": [
    "clg_mjr_sat_17.sort_values('Total').head()"
   ]
  },
  {
   "cell_type": "code",
   "execution_count": 232,
   "metadata": {},
   "outputs": [
    {
     "data": {
      "text/html": [
       "<div>\n",
       "<style scoped>\n",
       "    .dataframe tbody tr th:only-of-type {\n",
       "        vertical-align: middle;\n",
       "    }\n",
       "\n",
       "    .dataframe tbody tr th {\n",
       "        vertical-align: top;\n",
       "    }\n",
       "\n",
       "    .dataframe thead th {\n",
       "        text-align: right;\n",
       "    }\n",
       "</style>\n",
       "<table border=\"1\" class=\"dataframe\">\n",
       "  <thead>\n",
       "    <tr style=\"text-align: right;\">\n",
       "      <th></th>\n",
       "      <th>IntendedCollegeMajor</th>\n",
       "      <th>TestTakers</th>\n",
       "      <th>Percent</th>\n",
       "      <th>Total</th>\n",
       "      <th>ReadingWriting</th>\n",
       "      <th>Math</th>\n",
       "    </tr>\n",
       "  </thead>\n",
       "  <tbody>\n",
       "    <tr>\n",
       "      <th>19</th>\n",
       "      <td>Mathematics and Statistics</td>\n",
       "      <td>16508</td>\n",
       "      <td>1%</td>\n",
       "      <td>1242</td>\n",
       "      <td>597</td>\n",
       "      <td>646</td>\n",
       "    </tr>\n",
       "    <tr>\n",
       "      <th>27</th>\n",
       "      <td>Physical Sciences</td>\n",
       "      <td>26318</td>\n",
       "      <td>1%</td>\n",
       "      <td>1203</td>\n",
       "      <td>597</td>\n",
       "      <td>606</td>\n",
       "    </tr>\n",
       "    <tr>\n",
       "      <th>32</th>\n",
       "      <td>Social Sciences</td>\n",
       "      <td>33356</td>\n",
       "      <td>2%</td>\n",
       "      <td>1164</td>\n",
       "      <td>594</td>\n",
       "      <td>570</td>\n",
       "    </tr>\n",
       "    <tr>\n",
       "      <th>6</th>\n",
       "      <td>Computer and Information Sciences and Support ...</td>\n",
       "      <td>79736</td>\n",
       "      <td>4%</td>\n",
       "      <td>1156</td>\n",
       "      <td>571</td>\n",
       "      <td>585</td>\n",
       "    </tr>\n",
       "    <tr>\n",
       "      <th>22</th>\n",
       "      <td>Multi/Interdisciplinary Studies</td>\n",
       "      <td>2979</td>\n",
       "      <td>0%</td>\n",
       "      <td>1155</td>\n",
       "      <td>581</td>\n",
       "      <td>574</td>\n",
       "    </tr>\n",
       "  </tbody>\n",
       "</table>\n",
       "</div>"
      ],
      "text/plain": [
       "                                 IntendedCollegeMajor TestTakers Percent  \\\n",
       "19                         Mathematics and Statistics      16508      1%   \n",
       "27                                  Physical Sciences      26318      1%   \n",
       "32                                    Social Sciences      33356      2%   \n",
       "6   Computer and Information Sciences and Support ...      79736      4%   \n",
       "22                    Multi/Interdisciplinary Studies       2979      0%   \n",
       "\n",
       "    Total  ReadingWriting  Math  \n",
       "19   1242             597   646  \n",
       "27   1203             597   606  \n",
       "32   1164             594   570  \n",
       "6    1156             571   585  \n",
       "22   1155             581   574  "
      ]
     },
     "execution_count": 232,
     "metadata": {},
     "output_type": "execute_result"
    }
   ],
   "source": [
    "clg_mjr_sat_17.sort_values('Total',ascending=False).head()"
   ]
  },
  {
   "cell_type": "markdown",
   "metadata": {},
   "source": [
    "Findings:\n",
    "\n",
    "ACT 17-19 have the same number of rows but different columns as well as spelling for the overlapping ones<br> \n",
    "ACT 17 also has National average<br>\n",
    "\n",
    "ACT 17 row 51, Composite score is not a float<br>\n",
    "\n",
    "ACT 17-18, bottom 3 states in Composite score have 100% participation: Nevada, South Carolina, Missippi<br>\n",
    "ACT 19, bottom 3 states in Composite score have 100% participation: Nevada, Louisiana, Missippi\n",
    "\n",
    "\n",
    "SAT 19 has additional states Virgin Island and Puerto Rico\n",
    "\n",
    "SAT 17-19 different number of columns as well as spelling for the overlapping ones\n",
    "\n",
    "SAT 17 bottom 3 states are Idaho, Delaware, and District Columbia. Idaho has 93% Participation whilst the other 2 states are 100%.<br>\n",
    "SAT 18 bottom 3 state Distric Columbia (92%), Delaware (100%) and West Virginia (28%).<br>\n",
    "SAT 19 bottom 5 includes the 2 additional states without participation rates. West Viriginia (99%), Oklahoma (22%) and District of Columbia (94%)<br>\n",
    "SAT 18 Oklahoma had a participation rate of 8% and was not bottom 5, but in SAT 19, their participation rate was 22% and their average total fell.\n",
    "\n",
    "Top 5 intended college majors average total score was less than 5 percent in terms of overall test takers per each major, Stats, Physical Science, Social Sciences<br>\n",
    "Test Taker column not integer<br>\n",
    "Top 3 popular intended college major are Health, Business and Engineering<br>\n",
    "3 least popular college majors are Mechanics,Costruction, Culinary, less than 5 percent in terms of overall test takers per each major"
   ]
  },
  {
   "cell_type": "code",
   "execution_count": 236,
   "metadata": {},
   "outputs": [
    {
     "data": {
      "text/html": [
       "<div>\n",
       "<style scoped>\n",
       "    .dataframe tbody tr th:only-of-type {\n",
       "        vertical-align: middle;\n",
       "    }\n",
       "\n",
       "    .dataframe tbody tr th {\n",
       "        vertical-align: top;\n",
       "    }\n",
       "\n",
       "    .dataframe thead th {\n",
       "        text-align: right;\n",
       "    }\n",
       "</style>\n",
       "<table border=\"1\" class=\"dataframe\">\n",
       "  <thead>\n",
       "    <tr style=\"text-align: right;\">\n",
       "      <th></th>\n",
       "      <th>state</th>\n",
       "      <th>participation</th>\n",
       "      <th>evidence-based_reading_and_writing</th>\n",
       "      <th>math</th>\n",
       "      <th>total</th>\n",
       "    </tr>\n",
       "  </thead>\n",
       "  <tbody>\n",
       "    <tr>\n",
       "      <th>35</th>\n",
       "      <td>Oklahoma</td>\n",
       "      <td>8%</td>\n",
       "      <td>541</td>\n",
       "      <td>521</td>\n",
       "      <td>1062</td>\n",
       "    </tr>\n",
       "  </tbody>\n",
       "</table>\n",
       "</div>"
      ],
      "text/plain": [
       "       state participation  evidence-based_reading_and_writing  math  total\n",
       "35  Oklahoma            8%                                 541   521   1062"
      ]
     },
     "execution_count": 236,
     "metadata": {},
     "output_type": "execute_result"
    }
   ],
   "source": [
    "sat_18.loc[(sat_18.state == 'Oklahoma')]"
   ]
  },
  {
   "cell_type": "code",
   "execution_count": 239,
   "metadata": {},
   "outputs": [
    {
     "data": {
      "text/html": [
       "<div>\n",
       "<style scoped>\n",
       "    .dataframe tbody tr th:only-of-type {\n",
       "        vertical-align: middle;\n",
       "    }\n",
       "\n",
       "    .dataframe tbody tr th {\n",
       "        vertical-align: top;\n",
       "    }\n",
       "\n",
       "    .dataframe thead th {\n",
       "        text-align: right;\n",
       "    }\n",
       "</style>\n",
       "<table border=\"1\" class=\"dataframe\">\n",
       "  <thead>\n",
       "    <tr style=\"text-align: right;\">\n",
       "      <th></th>\n",
       "      <th>State</th>\n",
       "      <th>Participation Rate</th>\n",
       "      <th>EBRW</th>\n",
       "      <th>Math</th>\n",
       "      <th>Total</th>\n",
       "    </tr>\n",
       "  </thead>\n",
       "  <tbody>\n",
       "    <tr>\n",
       "      <th>36</th>\n",
       "      <td>Oklahoma</td>\n",
       "      <td>22%</td>\n",
       "      <td>490</td>\n",
       "      <td>472</td>\n",
       "      <td>963</td>\n",
       "    </tr>\n",
       "  </tbody>\n",
       "</table>\n",
       "</div>"
      ],
      "text/plain": [
       "       State Participation Rate  EBRW  Math  Total\n",
       "36  Oklahoma                22%   490   472    963"
      ]
     },
     "execution_count": 239,
     "metadata": {},
     "output_type": "execute_result"
    }
   ],
   "source": [
    "sat_19.loc[(sat_19.State == 'Oklahoma')]"
   ]
  },
  {
   "cell_type": "code",
   "execution_count": 240,
   "metadata": {},
   "outputs": [
    {
     "name": "stdout",
     "output_type": "stream",
     "text": [
      "act_2017.csv                           sat_2018.csv\r\n",
      "act_2018.csv                           sat_2019.csv\r\n",
      "act_2019.csv                           sat_2019_by_intended_college_major.csv\r\n",
      "act_2019_ca.csv                        sat_2019_ca.csv\r\n",
      "sat_2017.csv                           sat_act_by_college.csv\r\n"
     ]
    }
   ],
   "source": [
    "!ls"
   ]
  },
  {
   "cell_type": "code",
   "execution_count": 241,
   "metadata": {},
   "outputs": [],
   "source": [
    "sat_19_ca = pd.read_csv('sat_2019_ca.csv')"
   ]
  },
  {
   "cell_type": "code",
   "execution_count": 243,
   "metadata": {},
   "outputs": [
    {
     "data": {
      "text/html": [
       "<div>\n",
       "<style scoped>\n",
       "    .dataframe tbody tr th:only-of-type {\n",
       "        vertical-align: middle;\n",
       "    }\n",
       "\n",
       "    .dataframe tbody tr th {\n",
       "        vertical-align: top;\n",
       "    }\n",
       "\n",
       "    .dataframe thead th {\n",
       "        text-align: right;\n",
       "    }\n",
       "</style>\n",
       "<table border=\"1\" class=\"dataframe\">\n",
       "  <thead>\n",
       "    <tr style=\"text-align: right;\">\n",
       "      <th></th>\n",
       "      <th>CDS</th>\n",
       "      <th>CCode</th>\n",
       "      <th>CDCode</th>\n",
       "      <th>SCode</th>\n",
       "      <th>RType</th>\n",
       "      <th>SName</th>\n",
       "      <th>DName</th>\n",
       "      <th>CName</th>\n",
       "      <th>Enroll12</th>\n",
       "      <th>NumTSTTakr12</th>\n",
       "      <th>...</th>\n",
       "      <th>NumERWBenchmark11</th>\n",
       "      <th>PctERWBenchmark11</th>\n",
       "      <th>NumMathBenchmark11</th>\n",
       "      <th>PctMathBenchmark11</th>\n",
       "      <th>TotNumBothBenchmark12</th>\n",
       "      <th>PctBothBenchmark12</th>\n",
       "      <th>TotNumBothBenchmark11</th>\n",
       "      <th>PctBothBenchmark11</th>\n",
       "      <th>Year</th>\n",
       "      <th>Unnamed: 25</th>\n",
       "    </tr>\n",
       "  </thead>\n",
       "  <tbody>\n",
       "    <tr>\n",
       "      <th>0</th>\n",
       "      <td>6.615981e+12</td>\n",
       "      <td>6.0</td>\n",
       "      <td>661598.0</td>\n",
       "      <td>630046.0</td>\n",
       "      <td>S</td>\n",
       "      <td>Colusa Alternative Home</td>\n",
       "      <td>Colusa Unified</td>\n",
       "      <td>Colusa</td>\n",
       "      <td>18.0</td>\n",
       "      <td>0.0</td>\n",
       "      <td>...</td>\n",
       "      <td>NaN</td>\n",
       "      <td>NaN</td>\n",
       "      <td>NaN</td>\n",
       "      <td>NaN</td>\n",
       "      <td>NaN</td>\n",
       "      <td>NaN</td>\n",
       "      <td>NaN</td>\n",
       "      <td>NaN</td>\n",
       "      <td>2018-19</td>\n",
       "      <td>NaN</td>\n",
       "    </tr>\n",
       "    <tr>\n",
       "      <th>1</th>\n",
       "      <td>6.616061e+12</td>\n",
       "      <td>6.0</td>\n",
       "      <td>661606.0</td>\n",
       "      <td>634758.0</td>\n",
       "      <td>S</td>\n",
       "      <td>Maxwell Sr High</td>\n",
       "      <td>Maxwell Unified</td>\n",
       "      <td>Colusa</td>\n",
       "      <td>29.0</td>\n",
       "      <td>10.0</td>\n",
       "      <td>...</td>\n",
       "      <td>*</td>\n",
       "      <td>*</td>\n",
       "      <td>*</td>\n",
       "      <td>*</td>\n",
       "      <td>*</td>\n",
       "      <td>*</td>\n",
       "      <td>*</td>\n",
       "      <td>*</td>\n",
       "      <td>2018-19</td>\n",
       "      <td>NaN</td>\n",
       "    </tr>\n",
       "    <tr>\n",
       "      <th>2</th>\n",
       "      <td>1.964733e+13</td>\n",
       "      <td>19.0</td>\n",
       "      <td>1964733.0</td>\n",
       "      <td>1930924.0</td>\n",
       "      <td>S</td>\n",
       "      <td>Belmont Senior High</td>\n",
       "      <td>Los Angeles Unified</td>\n",
       "      <td>Los Angeles</td>\n",
       "      <td>206.0</td>\n",
       "      <td>102.0</td>\n",
       "      <td>...</td>\n",
       "      <td>42</td>\n",
       "      <td>24.14</td>\n",
       "      <td>12</td>\n",
       "      <td>6.90</td>\n",
       "      <td>14</td>\n",
       "      <td>13.73</td>\n",
       "      <td>11</td>\n",
       "      <td>6.32</td>\n",
       "      <td>2018-19</td>\n",
       "      <td>NaN</td>\n",
       "    </tr>\n",
       "    <tr>\n",
       "      <th>3</th>\n",
       "      <td>1.964733e+13</td>\n",
       "      <td>19.0</td>\n",
       "      <td>1964733.0</td>\n",
       "      <td>1931476.0</td>\n",
       "      <td>S</td>\n",
       "      <td>Canoga Park Senior High</td>\n",
       "      <td>Los Angeles Unified</td>\n",
       "      <td>Los Angeles</td>\n",
       "      <td>227.0</td>\n",
       "      <td>113.0</td>\n",
       "      <td>...</td>\n",
       "      <td>97</td>\n",
       "      <td>35.27</td>\n",
       "      <td>37</td>\n",
       "      <td>13.45</td>\n",
       "      <td>18</td>\n",
       "      <td>15.93</td>\n",
       "      <td>35</td>\n",
       "      <td>12.73</td>\n",
       "      <td>2018-19</td>\n",
       "      <td>NaN</td>\n",
       "    </tr>\n",
       "    <tr>\n",
       "      <th>4</th>\n",
       "      <td>1.964733e+13</td>\n",
       "      <td>19.0</td>\n",
       "      <td>1964733.0</td>\n",
       "      <td>1931856.0</td>\n",
       "      <td>S</td>\n",
       "      <td>Whitman Continuation</td>\n",
       "      <td>Los Angeles Unified</td>\n",
       "      <td>Los Angeles</td>\n",
       "      <td>18.0</td>\n",
       "      <td>14.0</td>\n",
       "      <td>...</td>\n",
       "      <td>*</td>\n",
       "      <td>*</td>\n",
       "      <td>*</td>\n",
       "      <td>*</td>\n",
       "      <td>*</td>\n",
       "      <td>*</td>\n",
       "      <td>*</td>\n",
       "      <td>*</td>\n",
       "      <td>2018-19</td>\n",
       "      <td>NaN</td>\n",
       "    </tr>\n",
       "  </tbody>\n",
       "</table>\n",
       "<p>5 rows × 26 columns</p>\n",
       "</div>"
      ],
      "text/plain": [
       "            CDS  CCode     CDCode      SCode RType                    SName  \\\n",
       "0  6.615981e+12    6.0   661598.0   630046.0     S  Colusa Alternative Home   \n",
       "1  6.616061e+12    6.0   661606.0   634758.0     S          Maxwell Sr High   \n",
       "2  1.964733e+13   19.0  1964733.0  1930924.0     S      Belmont Senior High   \n",
       "3  1.964733e+13   19.0  1964733.0  1931476.0     S  Canoga Park Senior High   \n",
       "4  1.964733e+13   19.0  1964733.0  1931856.0     S     Whitman Continuation   \n",
       "\n",
       "                 DName        CName  Enroll12  NumTSTTakr12  ...  \\\n",
       "0       Colusa Unified       Colusa      18.0           0.0  ...   \n",
       "1      Maxwell Unified       Colusa      29.0          10.0  ...   \n",
       "2  Los Angeles Unified  Los Angeles     206.0         102.0  ...   \n",
       "3  Los Angeles Unified  Los Angeles     227.0         113.0  ...   \n",
       "4  Los Angeles Unified  Los Angeles      18.0          14.0  ...   \n",
       "\n",
       "  NumERWBenchmark11 PctERWBenchmark11 NumMathBenchmark11 PctMathBenchmark11  \\\n",
       "0               NaN               NaN                NaN                NaN   \n",
       "1                 *                 *                  *                  *   \n",
       "2                42             24.14                 12               6.90   \n",
       "3                97             35.27                 37              13.45   \n",
       "4                 *                 *                  *                  *   \n",
       "\n",
       "   TotNumBothBenchmark12  PctBothBenchmark12 TotNumBothBenchmark11  \\\n",
       "0                    NaN                 NaN                   NaN   \n",
       "1                      *                   *                     *   \n",
       "2                     14               13.73                    11   \n",
       "3                     18               15.93                    35   \n",
       "4                      *                   *                     *   \n",
       "\n",
       "  PctBothBenchmark11     Year Unnamed: 25  \n",
       "0                NaN  2018-19         NaN  \n",
       "1                  *  2018-19         NaN  \n",
       "2               6.32  2018-19         NaN  \n",
       "3              12.73  2018-19         NaN  \n",
       "4                  *  2018-19         NaN  \n",
       "\n",
       "[5 rows x 26 columns]"
      ]
     },
     "execution_count": 243,
     "metadata": {},
     "output_type": "execute_result"
    }
   ],
   "source": [
    "sat_19_ca.head()"
   ]
  },
  {
   "cell_type": "code",
   "execution_count": 244,
   "metadata": {},
   "outputs": [
    {
     "name": "stdout",
     "output_type": "stream",
     "text": [
      "<class 'pandas.core.frame.DataFrame'>\n",
      "RangeIndex: 2580 entries, 0 to 2579\n",
      "Data columns (total 26 columns):\n",
      " #   Column                 Non-Null Count  Dtype  \n",
      "---  ------                 --------------  -----  \n",
      " 0   CDS                    2579 non-null   float64\n",
      " 1   CCode                  2579 non-null   float64\n",
      " 2   CDCode                 2579 non-null   float64\n",
      " 3   SCode                  2579 non-null   float64\n",
      " 4   RType                  2579 non-null   object \n",
      " 5   SName                  1982 non-null   object \n",
      " 6   DName                  2521 non-null   object \n",
      " 7   CName                  2579 non-null   object \n",
      " 8   Enroll12               2579 non-null   float64\n",
      " 9   NumTSTTakr12           2579 non-null   float64\n",
      " 10  NumERWBenchmark12      2304 non-null   object \n",
      " 11  PctERWBenchmark12      2304 non-null   object \n",
      " 12  NumMathBenchmark12     2304 non-null   object \n",
      " 13  PctMathBenchmark12     2304 non-null   object \n",
      " 14  Enroll11               2579 non-null   float64\n",
      " 15  NumTSTTakr11           2579 non-null   float64\n",
      " 16  NumERWBenchmark11      2269 non-null   object \n",
      " 17  PctERWBenchmark11      2269 non-null   object \n",
      " 18  NumMathBenchmark11     2269 non-null   object \n",
      " 19  PctMathBenchmark11     2269 non-null   object \n",
      " 20  TotNumBothBenchmark12  2304 non-null   object \n",
      " 21  PctBothBenchmark12     2304 non-null   object \n",
      " 22  TotNumBothBenchmark11  2269 non-null   object \n",
      " 23  PctBothBenchmark11     2269 non-null   object \n",
      " 24  Year                   2579 non-null   object \n",
      " 25  Unnamed: 25            0 non-null      float64\n",
      "dtypes: float64(9), object(17)\n",
      "memory usage: 524.2+ KB\n"
     ]
    }
   ],
   "source": [
    "sat_19_ca.info()"
   ]
  },
  {
   "cell_type": "code",
   "execution_count": 245,
   "metadata": {},
   "outputs": [
    {
     "name": "stdout",
     "output_type": "stream",
     "text": [
      "act_2017.csv                           sat_2018.csv\r\n",
      "act_2018.csv                           sat_2019.csv\r\n",
      "act_2019.csv                           sat_2019_by_intended_college_major.csv\r\n",
      "act_2019_ca.csv                        sat_2019_ca.csv\r\n",
      "sat_2017.csv                           sat_act_by_college.csv\r\n"
     ]
    }
   ],
   "source": [
    "!ls"
   ]
  },
  {
   "cell_type": "code",
   "execution_count": 246,
   "metadata": {},
   "outputs": [],
   "source": [
    "sat_act_by_college = pd.read_csv('sat_act_by_college.csv')"
   ]
  },
  {
   "cell_type": "code",
   "execution_count": 247,
   "metadata": {},
   "outputs": [
    {
     "data": {
      "text/html": [
       "<div>\n",
       "<style scoped>\n",
       "    .dataframe tbody tr th:only-of-type {\n",
       "        vertical-align: middle;\n",
       "    }\n",
       "\n",
       "    .dataframe tbody tr th {\n",
       "        vertical-align: top;\n",
       "    }\n",
       "\n",
       "    .dataframe thead th {\n",
       "        text-align: right;\n",
       "    }\n",
       "</style>\n",
       "<table border=\"1\" class=\"dataframe\">\n",
       "  <thead>\n",
       "    <tr style=\"text-align: right;\">\n",
       "      <th></th>\n",
       "      <th>School</th>\n",
       "      <th>Test Optional?</th>\n",
       "      <th>Applies to Class Year(s)</th>\n",
       "      <th>Policy Details</th>\n",
       "      <th>Number of Applicants</th>\n",
       "      <th>Accept Rate</th>\n",
       "      <th>SAT Total 25th-75th Percentile</th>\n",
       "      <th>ACT Total 25th-75th Percentile</th>\n",
       "    </tr>\n",
       "  </thead>\n",
       "  <tbody>\n",
       "    <tr>\n",
       "      <th>0</th>\n",
       "      <td>Stanford University</td>\n",
       "      <td>Yes</td>\n",
       "      <td>2021</td>\n",
       "      <td>Stanford has adopted a one-year test optional ...</td>\n",
       "      <td>47452</td>\n",
       "      <td>4.3%</td>\n",
       "      <td>1440-1570</td>\n",
       "      <td>32-35</td>\n",
       "    </tr>\n",
       "    <tr>\n",
       "      <th>1</th>\n",
       "      <td>Harvard College</td>\n",
       "      <td>Yes</td>\n",
       "      <td>2021</td>\n",
       "      <td>Harvard has adopted a one-year test optional p...</td>\n",
       "      <td>42749</td>\n",
       "      <td>4.7%</td>\n",
       "      <td>1460-1580</td>\n",
       "      <td>33-35</td>\n",
       "    </tr>\n",
       "    <tr>\n",
       "      <th>2</th>\n",
       "      <td>Princeton University</td>\n",
       "      <td>Yes</td>\n",
       "      <td>2021</td>\n",
       "      <td>Princeton has adopted a one-year test optional...</td>\n",
       "      <td>35370</td>\n",
       "      <td>5.5%</td>\n",
       "      <td>1440-1570</td>\n",
       "      <td>32-35</td>\n",
       "    </tr>\n",
       "    <tr>\n",
       "      <th>3</th>\n",
       "      <td>Columbia University</td>\n",
       "      <td>Yes</td>\n",
       "      <td>2021</td>\n",
       "      <td>Columbia has adopted a one-year test optional ...</td>\n",
       "      <td>40203</td>\n",
       "      <td>5.5%</td>\n",
       "      <td>1450-1560</td>\n",
       "      <td>33-35</td>\n",
       "    </tr>\n",
       "    <tr>\n",
       "      <th>4</th>\n",
       "      <td>Yale University</td>\n",
       "      <td>Yes</td>\n",
       "      <td>2021</td>\n",
       "      <td>Yale has adopted a one-year test optional poli...</td>\n",
       "      <td>36844</td>\n",
       "      <td>6.1%</td>\n",
       "      <td>1460-1570</td>\n",
       "      <td>33-35</td>\n",
       "    </tr>\n",
       "  </tbody>\n",
       "</table>\n",
       "</div>"
      ],
      "text/plain": [
       "                 School Test Optional? Applies to Class Year(s)  \\\n",
       "0   Stanford University            Yes                     2021   \n",
       "1       Harvard College            Yes                     2021   \n",
       "2  Princeton University            Yes                     2021   \n",
       "3   Columbia University            Yes                     2021   \n",
       "4       Yale University            Yes                     2021   \n",
       "\n",
       "                                      Policy Details  Number of Applicants  \\\n",
       "0  Stanford has adopted a one-year test optional ...                 47452   \n",
       "1  Harvard has adopted a one-year test optional p...                 42749   \n",
       "2  Princeton has adopted a one-year test optional...                 35370   \n",
       "3  Columbia has adopted a one-year test optional ...                 40203   \n",
       "4  Yale has adopted a one-year test optional poli...                 36844   \n",
       "\n",
       "  Accept Rate SAT Total 25th-75th Percentile ACT Total 25th-75th Percentile  \n",
       "0        4.3%                      1440-1570                          32-35  \n",
       "1        4.7%                      1460-1580                          33-35  \n",
       "2        5.5%                      1440-1570                          32-35  \n",
       "3        5.5%                      1450-1560                          33-35  \n",
       "4        6.1%                      1460-1570                          33-35  "
      ]
     },
     "execution_count": 247,
     "metadata": {},
     "output_type": "execute_result"
    }
   ],
   "source": [
    "sat_act_by_college.head()"
   ]
  },
  {
   "cell_type": "code",
   "execution_count": 248,
   "metadata": {},
   "outputs": [
    {
     "name": "stdout",
     "output_type": "stream",
     "text": [
      "<class 'pandas.core.frame.DataFrame'>\n",
      "RangeIndex: 416 entries, 0 to 415\n",
      "Data columns (total 8 columns):\n",
      " #   Column                          Non-Null Count  Dtype \n",
      "---  ------                          --------------  ----- \n",
      " 0   School                          416 non-null    object\n",
      " 1   Test Optional?                  416 non-null    object\n",
      " 2   Applies to Class Year(s)        390 non-null    object\n",
      " 3   Policy Details                  416 non-null    object\n",
      " 4   Number of Applicants            416 non-null    int64 \n",
      " 5   Accept Rate                     416 non-null    object\n",
      " 6   SAT Total 25th-75th Percentile  416 non-null    object\n",
      " 7   ACT Total 25th-75th Percentile  416 non-null    object\n",
      "dtypes: int64(1), object(7)\n",
      "memory usage: 26.1+ KB\n"
     ]
    }
   ],
   "source": [
    "sat_act_by_college.info()"
   ]
  },
  {
   "cell_type": "code",
   "execution_count": null,
   "metadata": {},
   "outputs": [],
   "source": []
  }
 ],
 "metadata": {
  "kernelspec": {
   "display_name": "Python 3",
   "language": "python",
   "name": "python3"
  },
  "language_info": {
   "codemirror_mode": {
    "name": "ipython",
    "version": 3
   },
   "file_extension": ".py",
   "mimetype": "text/x-python",
   "name": "python",
   "nbconvert_exporter": "python",
   "pygments_lexer": "ipython3",
   "version": "3.8.5"
  }
 },
 "nbformat": 4,
 "nbformat_minor": 4
}
